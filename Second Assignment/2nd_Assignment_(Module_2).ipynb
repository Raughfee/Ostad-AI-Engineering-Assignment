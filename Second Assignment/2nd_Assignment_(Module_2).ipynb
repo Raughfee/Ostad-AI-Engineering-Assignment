{
  "nbformat": 4,
  "nbformat_minor": 0,
  "metadata": {
    "colab": {
      "provenance": []
    },
    "kernelspec": {
      "name": "python3",
      "display_name": "Python 3"
    },
    "language_info": {
      "name": "python"
    }
  },
  "cells": [
    {
      "cell_type": "code",
      "execution_count": 60,
      "metadata": {
        "colab": {
          "base_uri": "https://localhost:8080/"
        },
        "id": "sYPwmDaThbVP",
        "outputId": "48a3e824-46e9-412e-c408-f0ec31bfe380"
      },
      "outputs": [
        {
          "output_type": "stream",
          "name": "stdout",
          "text": [
            "Drive already mounted at /content/drive; to attempt to forcibly remount, call drive.mount(\"/content/drive\", force_remount=True).\n"
          ]
        }
      ],
      "source": [
        "from google.colab import drive\n",
        "drive.mount('/content/drive')"
      ]
    },
    {
      "cell_type": "code",
      "source": [
        "import numpy as np\n",
        "import pandas as pd\n",
        "import matplotlib.pyplot as plt\n",
        "import seaborn as sns\n",
        "%matplotlib inline"
      ],
      "metadata": {
        "id": "E84EVDLQiAO1"
      },
      "execution_count": 61,
      "outputs": []
    },
    {
      "cell_type": "markdown",
      "source": [
        "# **Part 1: NumPy – Numerical Computing**\n",
        "\n",
        "\n"
      ],
      "metadata": {
        "id": "1uR7i3Oeiu3q"
      }
    },
    {
      "cell_type": "markdown",
      "source": [
        "## **Task 1: Array Creation and Operations**"
      ],
      "metadata": {
        "id": "R0sGCyhGY2Nm"
      }
    },
    {
      "cell_type": "markdown",
      "source": [
        "**Creating 1D Array of integers from 0 to 20**\n"
      ],
      "metadata": {
        "id": "V4CuNXdsjh6h"
      }
    },
    {
      "cell_type": "code",
      "source": [
        "# Creating a 1D array of integers from 0 to 20\n",
        "one_d_arr = np.arange(21, dtype=int)\n",
        "print(\"1d Array from 0 to 20 :\", one_d_arr)"
      ],
      "metadata": {
        "colab": {
          "base_uri": "https://localhost:8080/"
        },
        "id": "vxetwh7qjAsf",
        "outputId": "eef7a71f-9e7c-4797-9ef5-176e93225476"
      },
      "execution_count": 62,
      "outputs": [
        {
          "output_type": "stream",
          "name": "stdout",
          "text": [
            "1d Array from 0 to 20 : [ 0  1  2  3  4  5  6  7  8  9 10 11 12 13 14 15 16 17 18 19 20]\n"
          ]
        }
      ]
    },
    {
      "cell_type": "code",
      "source": [
        "one_d_arr.dtype"
      ],
      "metadata": {
        "colab": {
          "base_uri": "https://localhost:8080/"
        },
        "id": "FFM4KXa4kkVI",
        "outputId": "3ab9455f-17bb-483f-fa96-342cdfa132ec"
      },
      "execution_count": 63,
      "outputs": [
        {
          "output_type": "execute_result",
          "data": {
            "text/plain": [
              "dtype('int64')"
            ]
          },
          "metadata": {},
          "execution_count": 63
        }
      ]
    },
    {
      "cell_type": "markdown",
      "source": [
        "**Creating A 2D array of shape (4, 5) filled with random integers from 10 to 99**"
      ],
      "metadata": {
        "id": "QAbilgiWk6HK"
      }
    },
    {
      "cell_type": "code",
      "source": [
        "# Creating a 2D array (4x5) with random integers between 10 and 99\n",
        "two_d_arr = np.random.randint(10, 100, size=(4, 5))\n",
        "print(\"2d array of shape (4x5) with random integer [10,99] :\\n\", two_d_arr)"
      ],
      "metadata": {
        "colab": {
          "base_uri": "https://localhost:8080/"
        },
        "id": "ihUfkYCik-S7",
        "outputId": "56328e53-bc14-4905-86e4-95c2a240e31e"
      },
      "execution_count": 64,
      "outputs": [
        {
          "output_type": "stream",
          "name": "stdout",
          "text": [
            "2d array of shape (4x5) with random integer [10,99] :\n",
            " [[34 11 47 62 85]\n",
            " [46 79 45 26 67]\n",
            " [76 97 95 28 88]\n",
            " [92 30 95 72 21]]\n"
          ]
        }
      ]
    },
    {
      "cell_type": "markdown",
      "source": [
        "**Creating A 3x3 identity matrix**"
      ],
      "metadata": {
        "id": "lpN_hXrZoDGt"
      }
    },
    {
      "cell_type": "code",
      "source": [
        "# Creating a 3x3 identity matrix\n",
        "identity_matrix = np.eye(3)\n",
        "print(\"3x3 Identity Matrix :\\n\", identity_matrix)"
      ],
      "metadata": {
        "colab": {
          "base_uri": "https://localhost:8080/"
        },
        "id": "Cmw5RHDOoGxF",
        "outputId": "21328719-a317-4722-d8bd-1d737641ace2"
      },
      "execution_count": 65,
      "outputs": [
        {
          "output_type": "stream",
          "name": "stdout",
          "text": [
            "3x3 Identity Matrix :\n",
            " [[1. 0. 0.]\n",
            " [0. 1. 0.]\n",
            " [0. 0. 1.]]\n"
          ]
        }
      ]
    },
    {
      "cell_type": "markdown",
      "source": [
        "**Find the mean, median, and standard deviation of the 2D array**"
      ],
      "metadata": {
        "id": "NQ-Vqubiokvh"
      }
    },
    {
      "cell_type": "code",
      "source": [
        "#Performing statistical measures for 2d array\n",
        "print(\"\\nStatistics for 2D Array:\")\n",
        "print(\"Mean:\", np.mean(two_d_arr))\n",
        "print(\"Median:\", np.median(two_d_arr))\n",
        "print(\"Standard Deviation:\", np.std(two_d_arr))"
      ],
      "metadata": {
        "colab": {
          "base_uri": "https://localhost:8080/"
        },
        "id": "mQCDwibEo_Qx",
        "outputId": "54607eb0-8747-44a2-bbbe-1a547a308ad3"
      },
      "execution_count": 66,
      "outputs": [
        {
          "output_type": "stream",
          "name": "stdout",
          "text": [
            "\n",
            "Statistics for 2D Array:\n",
            "Mean: 59.8\n",
            "Median: 64.5\n",
            "Standard Deviation: 27.68862582361212\n"
          ]
        }
      ]
    },
    {
      "cell_type": "markdown",
      "source": [
        "**Slice and print the second row and third column of the 2D array**"
      ],
      "metadata": {
        "id": "Al5r1YrppPwr"
      }
    },
    {
      "cell_type": "code",
      "source": [
        "#Performing Slice operation for printing the 2nd row and 3rd col for the 2d array\n",
        "second_row = two_d_arr[1]\n",
        "third_column = two_d_arr[:, 2]\n",
        "\n",
        "print(\"\\nSecond Row of 2D Array:\")\n",
        "print(second_row)\n",
        "\n",
        "print(\"\\nThird Column of 2D Array:\")\n",
        "print(third_column)"
      ],
      "metadata": {
        "colab": {
          "base_uri": "https://localhost:8080/"
        },
        "id": "Q5rIls7IwgYH",
        "outputId": "95fbaecc-3859-4c99-c281-19e91ac65119"
      },
      "execution_count": 67,
      "outputs": [
        {
          "output_type": "stream",
          "name": "stdout",
          "text": [
            "\n",
            "Second Row of 2D Array:\n",
            "[46 79 45 26 67]\n",
            "\n",
            "Third Column of 2D Array:\n",
            "[47 45 95 95]\n"
          ]
        }
      ]
    },
    {
      "cell_type": "code",
      "source": [
        "sliced_arr = two_d_arr[1, 2]\n",
        "print(\"The value at second row, third column is:\",sliced_arr)"
      ],
      "metadata": {
        "colab": {
          "base_uri": "https://localhost:8080/"
        },
        "id": "2ji5hcKEpSEU",
        "outputId": "fd0c691f-7ebb-4362-90b4-29cc6cea8250"
      },
      "execution_count": 68,
      "outputs": [
        {
          "output_type": "stream",
          "name": "stdout",
          "text": [
            "The value at second row, third column is: 45\n"
          ]
        }
      ]
    },
    {
      "cell_type": "markdown",
      "source": [
        "**Multiply two arrays element-wise.**"
      ],
      "metadata": {
        "id": "ElrUVOQDrxL6"
      }
    },
    {
      "cell_type": "markdown",
      "source": [
        "**Creating another 4x5 random array to multiply with the already existed array**"
      ],
      "metadata": {
        "id": "dtdR93qdxMOI"
      }
    },
    {
      "cell_type": "code",
      "source": [
        "# Creating another 4x5 array to perform element-wise multiplication\n",
        "new_two_d_arr = np.random.randint(10,100, size=(4,5))\n",
        "print(\"2d array of shape (4x5) with random integer [10,99] :\\n\", new_two_d_arr)"
      ],
      "metadata": {
        "colab": {
          "base_uri": "https://localhost:8080/"
        },
        "id": "rEJt-UHbr4DL",
        "outputId": "cc3b90f5-8d2b-4c09-e551-fb7326f8bf65"
      },
      "execution_count": 69,
      "outputs": [
        {
          "output_type": "stream",
          "name": "stdout",
          "text": [
            "2d array of shape (4x5) with random integer [10,99] :\n",
            " [[67 85 61 70 78]\n",
            " [33 34 83 79 28]\n",
            " [21 58 47 40 54]\n",
            " [86 46 96 72 82]]\n"
          ]
        }
      ]
    },
    {
      "cell_type": "code",
      "source": [
        "# perform element-wise multiplication of the two arrays\n",
        "elementwise_product = two_d_arr * new_two_d_arr\n",
        "print(\"Element-wise Multiplication Result:\\n\", elementwise_product)"
      ],
      "metadata": {
        "colab": {
          "base_uri": "https://localhost:8080/"
        },
        "id": "gnbI8gTByNtP",
        "outputId": "e877e046-40b0-42c9-8c15-c00abe1f524d"
      },
      "execution_count": 70,
      "outputs": [
        {
          "output_type": "stream",
          "name": "stdout",
          "text": [
            "Element-wise Multiplication Result:\n",
            " [[2278  935 2867 4340 6630]\n",
            " [1518 2686 3735 2054 1876]\n",
            " [1596 5626 4465 1120 4752]\n",
            " [7912 1380 9120 5184 1722]]\n"
          ]
        }
      ]
    },
    {
      "cell_type": "markdown",
      "source": [
        "## **Task 2: Broadcasting and Reshaping**"
      ],
      "metadata": {
        "id": "B4hV_Qx9yofp"
      }
    },
    {
      "cell_type": "markdown",
      "source": [
        "**Reshape a 1D array of size 16 into a 4x4 matrix**"
      ],
      "metadata": {
        "id": "OH_p4G9PyyEz"
      }
    },
    {
      "cell_type": "code",
      "source": [
        "#creating 1d array from 1 to 16\n",
        "one_d_array = np.arange(1,17)\n",
        "print(\"1d Array from 1 to 17 :\", one_d_array)\n",
        "\n",
        "#Reshape the 1d array into 4x4 matrix\n",
        "reshaped_matrix = one_d_array.reshape(4, 4)\n",
        "print(\"\\nReshaped Matrix (4x4):\\n\", reshaped_matrix)"
      ],
      "metadata": {
        "colab": {
          "base_uri": "https://localhost:8080/"
        },
        "id": "g_z2Sl3zyrxH",
        "outputId": "52e56c48-1e5b-488d-d467-8019f8f2987b"
      },
      "execution_count": 71,
      "outputs": [
        {
          "output_type": "stream",
          "name": "stdout",
          "text": [
            "1d Array from 1 to 17 : [ 1  2  3  4  5  6  7  8  9 10 11 12 13 14 15 16]\n",
            "\n",
            "Reshaped Matrix (4x4):\n",
            " [[ 1  2  3  4]\n",
            " [ 5  6  7  8]\n",
            " [ 9 10 11 12]\n",
            " [13 14 15 16]]\n"
          ]
        }
      ]
    },
    {
      "cell_type": "markdown",
      "source": [
        "**Comments** : Reshaping means changing the structure of an array without changing its data.\n",
        "Here, I converted a 1D array into a 4x4 matrix. Since a 4x4 matrix needs 16 elements, the original 1D array must have at least 16 values. This way, we can evenly distribute 4 rows with 4 values in each."
      ],
      "metadata": {
        "id": "1JgXjaxX4wsc"
      }
    },
    {
      "cell_type": "markdown",
      "source": [
        "**Add a 1D array [1, 2, 3, 4] to each row of the matrix using broadcasting.**"
      ],
      "metadata": {
        "id": "m1CyVuOk0DxB"
      }
    },
    {
      "cell_type": "code",
      "source": [
        "#Broadcasting a 1D Array to a 4D Array (Reshaped Matrix)\n",
        "new_one_d_array = np.array([1, 2, 3, 4])\n",
        "broadcasted_matrix = reshaped_matrix + new_one_d_array\n",
        "print(\"\\nBroadcasted Matrix (4x4):\\n\", broadcasted_matrix)\n"
      ],
      "metadata": {
        "colab": {
          "base_uri": "https://localhost:8080/"
        },
        "id": "8oF9EoEO0IWZ",
        "outputId": "fc9f19c0-807a-41c3-d314-5fedb7e8ead9"
      },
      "execution_count": 72,
      "outputs": [
        {
          "output_type": "stream",
          "name": "stdout",
          "text": [
            "\n",
            "Broadcasted Matrix (4x4):\n",
            " [[ 2  4  6  8]\n",
            " [ 6  8 10 12]\n",
            " [10 12 14 16]\n",
            " [14 16 18 20]]\n"
          ]
        }
      ]
    },
    {
      "cell_type": "markdown",
      "source": [
        "**Comments** : Broadcasting in NumPy allows us to perform arithmetic operations on arrays of different shapes without reshaping them. Adding [1, 2, 3, 4] uses broadcasting, which automatically matches the shape and adds it to every row."
      ],
      "metadata": {
        "id": "oU1fBoQG6eDP"
      }
    },
    {
      "cell_type": "markdown",
      "source": [
        "**Flatten the matrix back to a 1D array**"
      ],
      "metadata": {
        "id": "bBe3KU596_Ut"
      }
    },
    {
      "cell_type": "code",
      "source": [
        "# Flatten the resulting matrix back to a 1D array\n",
        "flattened_array = broadcasted_matrix.flatten()\n",
        "print(\"\\nFlattened array:\", flattened_array)\n"
      ],
      "metadata": {
        "colab": {
          "base_uri": "https://localhost:8080/"
        },
        "id": "AS2_C8_e6nyB",
        "outputId": "04359c84-938c-424c-8fe1-9d13181e5f0d"
      },
      "execution_count": 73,
      "outputs": [
        {
          "output_type": "stream",
          "name": "stdout",
          "text": [
            "\n",
            "Flattened array: [ 2  4  6  8  6  8 10 12 10 12 14 16 14 16 18 20]\n"
          ]
        }
      ]
    },
    {
      "cell_type": "markdown",
      "source": [
        "**Comments** : Flatten() function actually converts the matrix into the single 1d array\n"
      ],
      "metadata": {
        "id": "fKsGBtRX7RkT"
      }
    },
    {
      "cell_type": "markdown",
      "source": [
        "# **Part 2: Pandas – Data Manipulation**"
      ],
      "metadata": {
        "id": "sBXRezTf7p4A"
      }
    },
    {
      "cell_type": "markdown",
      "source": [
        "## **Task 3: Working with DataFrames**"
      ],
      "metadata": {
        "id": "cPui2CJP8Gxu"
      }
    },
    {
      "cell_type": "markdown",
      "source": [
        "**Create a DataFrame**"
      ],
      "metadata": {
        "id": "DlfnsHI_8RXt"
      }
    },
    {
      "cell_type": "code",
      "source": [
        "#list the data\n",
        "Data = {'Name': ['Alice', 'Bob', 'Charlie', 'Diana', 'Evan'],\n",
        "        'Age': [25, 30, 28, 35, 40],\n",
        "        'Department': ['IT', 'HR', 'IT', 'Marketing', 'HR'],\n",
        "        'Salary': [50000, 45000, 72000, 58000, 60000]}\n",
        "\n",
        "# Create a DataFrame\n",
        "df = pd.DataFrame(Data)\n",
        "print(df)"
      ],
      "metadata": {
        "colab": {
          "base_uri": "https://localhost:8080/"
        },
        "id": "AIIXisxe7fbp",
        "outputId": "63635787-91b0-4902-809a-206631441a89"
      },
      "execution_count": 74,
      "outputs": [
        {
          "output_type": "stream",
          "name": "stdout",
          "text": [
            "      Name  Age Department  Salary\n",
            "0    Alice   25         IT   50000\n",
            "1      Bob   30         HR   45000\n",
            "2  Charlie   28         IT   72000\n",
            "3    Diana   35  Marketing   58000\n",
            "4     Evan   40         HR   60000\n"
          ]
        }
      ]
    },
    {
      "cell_type": "markdown",
      "source": [
        "**Add a new column Bonus = 10% of Salary.**"
      ],
      "metadata": {
        "id": "x7BC-n5M-Qi4"
      }
    },
    {
      "cell_type": "code",
      "source": [
        "df['Bonus'] = (df['Salary'] * 10 / 100).astype(int)\n",
        "df.head()"
      ],
      "metadata": {
        "colab": {
          "base_uri": "https://localhost:8080/",
          "height": 206
        },
        "id": "NuI_HJh6-TPZ",
        "outputId": "77ca0ef3-edd8-4458-a317-2290d8d9b7b2"
      },
      "execution_count": 86,
      "outputs": [
        {
          "output_type": "execute_result",
          "data": {
            "text/plain": [
              "      Name  Age Department  Salary  Bonus\n",
              "0    Alice   25         IT   50000   5000\n",
              "1      Bob   30         HR   45000   4500\n",
              "2  Charlie   28         IT   72000   7200\n",
              "3    Diana   35  Marketing   58000   5800\n",
              "4     Evan   40         HR   60000   6000"
            ],
            "text/html": [
              "\n",
              "  <div id=\"df-0638d8b7-84f8-46a4-b9c9-f6c367c892f9\" class=\"colab-df-container\">\n",
              "    <div>\n",
              "<style scoped>\n",
              "    .dataframe tbody tr th:only-of-type {\n",
              "        vertical-align: middle;\n",
              "    }\n",
              "\n",
              "    .dataframe tbody tr th {\n",
              "        vertical-align: top;\n",
              "    }\n",
              "\n",
              "    .dataframe thead th {\n",
              "        text-align: right;\n",
              "    }\n",
              "</style>\n",
              "<table border=\"1\" class=\"dataframe\">\n",
              "  <thead>\n",
              "    <tr style=\"text-align: right;\">\n",
              "      <th></th>\n",
              "      <th>Name</th>\n",
              "      <th>Age</th>\n",
              "      <th>Department</th>\n",
              "      <th>Salary</th>\n",
              "      <th>Bonus</th>\n",
              "    </tr>\n",
              "  </thead>\n",
              "  <tbody>\n",
              "    <tr>\n",
              "      <th>0</th>\n",
              "      <td>Alice</td>\n",
              "      <td>25</td>\n",
              "      <td>IT</td>\n",
              "      <td>50000</td>\n",
              "      <td>5000</td>\n",
              "    </tr>\n",
              "    <tr>\n",
              "      <th>1</th>\n",
              "      <td>Bob</td>\n",
              "      <td>30</td>\n",
              "      <td>HR</td>\n",
              "      <td>45000</td>\n",
              "      <td>4500</td>\n",
              "    </tr>\n",
              "    <tr>\n",
              "      <th>2</th>\n",
              "      <td>Charlie</td>\n",
              "      <td>28</td>\n",
              "      <td>IT</td>\n",
              "      <td>72000</td>\n",
              "      <td>7200</td>\n",
              "    </tr>\n",
              "    <tr>\n",
              "      <th>3</th>\n",
              "      <td>Diana</td>\n",
              "      <td>35</td>\n",
              "      <td>Marketing</td>\n",
              "      <td>58000</td>\n",
              "      <td>5800</td>\n",
              "    </tr>\n",
              "    <tr>\n",
              "      <th>4</th>\n",
              "      <td>Evan</td>\n",
              "      <td>40</td>\n",
              "      <td>HR</td>\n",
              "      <td>60000</td>\n",
              "      <td>6000</td>\n",
              "    </tr>\n",
              "  </tbody>\n",
              "</table>\n",
              "</div>\n",
              "    <div class=\"colab-df-buttons\">\n",
              "\n",
              "  <div class=\"colab-df-container\">\n",
              "    <button class=\"colab-df-convert\" onclick=\"convertToInteractive('df-0638d8b7-84f8-46a4-b9c9-f6c367c892f9')\"\n",
              "            title=\"Convert this dataframe to an interactive table.\"\n",
              "            style=\"display:none;\">\n",
              "\n",
              "  <svg xmlns=\"http://www.w3.org/2000/svg\" height=\"24px\" viewBox=\"0 -960 960 960\">\n",
              "    <path d=\"M120-120v-720h720v720H120Zm60-500h600v-160H180v160Zm220 220h160v-160H400v160Zm0 220h160v-160H400v160ZM180-400h160v-160H180v160Zm440 0h160v-160H620v160ZM180-180h160v-160H180v160Zm440 0h160v-160H620v160Z\"/>\n",
              "  </svg>\n",
              "    </button>\n",
              "\n",
              "  <style>\n",
              "    .colab-df-container {\n",
              "      display:flex;\n",
              "      gap: 12px;\n",
              "    }\n",
              "\n",
              "    .colab-df-convert {\n",
              "      background-color: #E8F0FE;\n",
              "      border: none;\n",
              "      border-radius: 50%;\n",
              "      cursor: pointer;\n",
              "      display: none;\n",
              "      fill: #1967D2;\n",
              "      height: 32px;\n",
              "      padding: 0 0 0 0;\n",
              "      width: 32px;\n",
              "    }\n",
              "\n",
              "    .colab-df-convert:hover {\n",
              "      background-color: #E2EBFA;\n",
              "      box-shadow: 0px 1px 2px rgba(60, 64, 67, 0.3), 0px 1px 3px 1px rgba(60, 64, 67, 0.15);\n",
              "      fill: #174EA6;\n",
              "    }\n",
              "\n",
              "    .colab-df-buttons div {\n",
              "      margin-bottom: 4px;\n",
              "    }\n",
              "\n",
              "    [theme=dark] .colab-df-convert {\n",
              "      background-color: #3B4455;\n",
              "      fill: #D2E3FC;\n",
              "    }\n",
              "\n",
              "    [theme=dark] .colab-df-convert:hover {\n",
              "      background-color: #434B5C;\n",
              "      box-shadow: 0px 1px 3px 1px rgba(0, 0, 0, 0.15);\n",
              "      filter: drop-shadow(0px 1px 2px rgba(0, 0, 0, 0.3));\n",
              "      fill: #FFFFFF;\n",
              "    }\n",
              "  </style>\n",
              "\n",
              "    <script>\n",
              "      const buttonEl =\n",
              "        document.querySelector('#df-0638d8b7-84f8-46a4-b9c9-f6c367c892f9 button.colab-df-convert');\n",
              "      buttonEl.style.display =\n",
              "        google.colab.kernel.accessAllowed ? 'block' : 'none';\n",
              "\n",
              "      async function convertToInteractive(key) {\n",
              "        const element = document.querySelector('#df-0638d8b7-84f8-46a4-b9c9-f6c367c892f9');\n",
              "        const dataTable =\n",
              "          await google.colab.kernel.invokeFunction('convertToInteractive',\n",
              "                                                    [key], {});\n",
              "        if (!dataTable) return;\n",
              "\n",
              "        const docLinkHtml = 'Like what you see? Visit the ' +\n",
              "          '<a target=\"_blank\" href=https://colab.research.google.com/notebooks/data_table.ipynb>data table notebook</a>'\n",
              "          + ' to learn more about interactive tables.';\n",
              "        element.innerHTML = '';\n",
              "        dataTable['output_type'] = 'display_data';\n",
              "        await google.colab.output.renderOutput(dataTable, element);\n",
              "        const docLink = document.createElement('div');\n",
              "        docLink.innerHTML = docLinkHtml;\n",
              "        element.appendChild(docLink);\n",
              "      }\n",
              "    </script>\n",
              "  </div>\n",
              "\n",
              "\n",
              "    <div id=\"df-ef77d1a6-9a29-4069-bf0e-3d6676ddf2ca\">\n",
              "      <button class=\"colab-df-quickchart\" onclick=\"quickchart('df-ef77d1a6-9a29-4069-bf0e-3d6676ddf2ca')\"\n",
              "                title=\"Suggest charts\"\n",
              "                style=\"display:none;\">\n",
              "\n",
              "<svg xmlns=\"http://www.w3.org/2000/svg\" height=\"24px\"viewBox=\"0 0 24 24\"\n",
              "     width=\"24px\">\n",
              "    <g>\n",
              "        <path d=\"M19 3H5c-1.1 0-2 .9-2 2v14c0 1.1.9 2 2 2h14c1.1 0 2-.9 2-2V5c0-1.1-.9-2-2-2zM9 17H7v-7h2v7zm4 0h-2V7h2v10zm4 0h-2v-4h2v4z\"/>\n",
              "    </g>\n",
              "</svg>\n",
              "      </button>\n",
              "\n",
              "<style>\n",
              "  .colab-df-quickchart {\n",
              "      --bg-color: #E8F0FE;\n",
              "      --fill-color: #1967D2;\n",
              "      --hover-bg-color: #E2EBFA;\n",
              "      --hover-fill-color: #174EA6;\n",
              "      --disabled-fill-color: #AAA;\n",
              "      --disabled-bg-color: #DDD;\n",
              "  }\n",
              "\n",
              "  [theme=dark] .colab-df-quickchart {\n",
              "      --bg-color: #3B4455;\n",
              "      --fill-color: #D2E3FC;\n",
              "      --hover-bg-color: #434B5C;\n",
              "      --hover-fill-color: #FFFFFF;\n",
              "      --disabled-bg-color: #3B4455;\n",
              "      --disabled-fill-color: #666;\n",
              "  }\n",
              "\n",
              "  .colab-df-quickchart {\n",
              "    background-color: var(--bg-color);\n",
              "    border: none;\n",
              "    border-radius: 50%;\n",
              "    cursor: pointer;\n",
              "    display: none;\n",
              "    fill: var(--fill-color);\n",
              "    height: 32px;\n",
              "    padding: 0;\n",
              "    width: 32px;\n",
              "  }\n",
              "\n",
              "  .colab-df-quickchart:hover {\n",
              "    background-color: var(--hover-bg-color);\n",
              "    box-shadow: 0 1px 2px rgba(60, 64, 67, 0.3), 0 1px 3px 1px rgba(60, 64, 67, 0.15);\n",
              "    fill: var(--button-hover-fill-color);\n",
              "  }\n",
              "\n",
              "  .colab-df-quickchart-complete:disabled,\n",
              "  .colab-df-quickchart-complete:disabled:hover {\n",
              "    background-color: var(--disabled-bg-color);\n",
              "    fill: var(--disabled-fill-color);\n",
              "    box-shadow: none;\n",
              "  }\n",
              "\n",
              "  .colab-df-spinner {\n",
              "    border: 2px solid var(--fill-color);\n",
              "    border-color: transparent;\n",
              "    border-bottom-color: var(--fill-color);\n",
              "    animation:\n",
              "      spin 1s steps(1) infinite;\n",
              "  }\n",
              "\n",
              "  @keyframes spin {\n",
              "    0% {\n",
              "      border-color: transparent;\n",
              "      border-bottom-color: var(--fill-color);\n",
              "      border-left-color: var(--fill-color);\n",
              "    }\n",
              "    20% {\n",
              "      border-color: transparent;\n",
              "      border-left-color: var(--fill-color);\n",
              "      border-top-color: var(--fill-color);\n",
              "    }\n",
              "    30% {\n",
              "      border-color: transparent;\n",
              "      border-left-color: var(--fill-color);\n",
              "      border-top-color: var(--fill-color);\n",
              "      border-right-color: var(--fill-color);\n",
              "    }\n",
              "    40% {\n",
              "      border-color: transparent;\n",
              "      border-right-color: var(--fill-color);\n",
              "      border-top-color: var(--fill-color);\n",
              "    }\n",
              "    60% {\n",
              "      border-color: transparent;\n",
              "      border-right-color: var(--fill-color);\n",
              "    }\n",
              "    80% {\n",
              "      border-color: transparent;\n",
              "      border-right-color: var(--fill-color);\n",
              "      border-bottom-color: var(--fill-color);\n",
              "    }\n",
              "    90% {\n",
              "      border-color: transparent;\n",
              "      border-bottom-color: var(--fill-color);\n",
              "    }\n",
              "  }\n",
              "</style>\n",
              "\n",
              "      <script>\n",
              "        async function quickchart(key) {\n",
              "          const quickchartButtonEl =\n",
              "            document.querySelector('#' + key + ' button');\n",
              "          quickchartButtonEl.disabled = true;  // To prevent multiple clicks.\n",
              "          quickchartButtonEl.classList.add('colab-df-spinner');\n",
              "          try {\n",
              "            const charts = await google.colab.kernel.invokeFunction(\n",
              "                'suggestCharts', [key], {});\n",
              "          } catch (error) {\n",
              "            console.error('Error during call to suggestCharts:', error);\n",
              "          }\n",
              "          quickchartButtonEl.classList.remove('colab-df-spinner');\n",
              "          quickchartButtonEl.classList.add('colab-df-quickchart-complete');\n",
              "        }\n",
              "        (() => {\n",
              "          let quickchartButtonEl =\n",
              "            document.querySelector('#df-ef77d1a6-9a29-4069-bf0e-3d6676ddf2ca button');\n",
              "          quickchartButtonEl.style.display =\n",
              "            google.colab.kernel.accessAllowed ? 'block' : 'none';\n",
              "        })();\n",
              "      </script>\n",
              "    </div>\n",
              "\n",
              "    </div>\n",
              "  </div>\n"
            ],
            "application/vnd.google.colaboratory.intrinsic+json": {
              "type": "dataframe",
              "variable_name": "df",
              "summary": "{\n  \"name\": \"df\",\n  \"rows\": 5,\n  \"fields\": [\n    {\n      \"column\": \"Name\",\n      \"properties\": {\n        \"dtype\": \"string\",\n        \"num_unique_values\": 5,\n        \"samples\": [\n          \"Bob\",\n          \"Evan\",\n          \"Charlie\"\n        ],\n        \"semantic_type\": \"\",\n        \"description\": \"\"\n      }\n    },\n    {\n      \"column\": \"Age\",\n      \"properties\": {\n        \"dtype\": \"number\",\n        \"std\": 5,\n        \"min\": 25,\n        \"max\": 40,\n        \"num_unique_values\": 5,\n        \"samples\": [\n          30,\n          40,\n          28\n        ],\n        \"semantic_type\": \"\",\n        \"description\": \"\"\n      }\n    },\n    {\n      \"column\": \"Department\",\n      \"properties\": {\n        \"dtype\": \"string\",\n        \"num_unique_values\": 3,\n        \"samples\": [\n          \"IT\",\n          \"HR\",\n          \"Marketing\"\n        ],\n        \"semantic_type\": \"\",\n        \"description\": \"\"\n      }\n    },\n    {\n      \"column\": \"Salary\",\n      \"properties\": {\n        \"dtype\": \"number\",\n        \"std\": 10344,\n        \"min\": 45000,\n        \"max\": 72000,\n        \"num_unique_values\": 5,\n        \"samples\": [\n          45000,\n          60000,\n          72000\n        ],\n        \"semantic_type\": \"\",\n        \"description\": \"\"\n      }\n    },\n    {\n      \"column\": \"Bonus\",\n      \"properties\": {\n        \"dtype\": \"number\",\n        \"std\": 1034,\n        \"min\": 4500,\n        \"max\": 7200,\n        \"num_unique_values\": 5,\n        \"samples\": [\n          4500,\n          6000,\n          7200\n        ],\n        \"semantic_type\": \"\",\n        \"description\": \"\"\n      }\n    }\n  ]\n}"
            }
          },
          "metadata": {},
          "execution_count": 86
        }
      ]
    },
    {
      "cell_type": "markdown",
      "source": [
        "**Filter and display employees in the HR department**"
      ],
      "metadata": {
        "id": "dCurYj6mbDKY"
      }
    },
    {
      "cell_type": "code",
      "source": [
        "#Creating filter DE to display HR only\n",
        "hr_employees = df[df['Department'] == 'HR']\n",
        "\n",
        "print(\"\\nEmployees in the HR Department:\\n\")\n",
        "print(hr_employees)"
      ],
      "metadata": {
        "colab": {
          "base_uri": "https://localhost:8080/"
        },
        "id": "d42XuaEPZlCb",
        "outputId": "c860493e-bad7-4d8c-ec6d-d402c0a9be68"
      },
      "execution_count": 91,
      "outputs": [
        {
          "output_type": "stream",
          "name": "stdout",
          "text": [
            "\n",
            "Employees in the HR Department:\n",
            "\n",
            "   Name  Age Department  Salary  Bonus\n",
            "1   Bob   30         HR   45000   4500\n",
            "4  Evan   40         HR   60000   6000\n"
          ]
        }
      ]
    },
    {
      "cell_type": "markdown",
      "source": [
        "**Calculate average salary by department**"
      ],
      "metadata": {
        "id": "AtuJJ2gi1-GD"
      }
    },
    {
      "cell_type": "code",
      "source": [
        "#Calculating department wise average salary\n",
        "avg_salary_by_dept = (\n",
        "    df.groupby('Department', as_index=False)['Salary']\n",
        "    .mean()\n",
        "    .rename(columns={'Salary': 'Average Salary'})\n",
        "    .round()\n",
        "    .astype({'Average Salary': int})\n",
        ")\n",
        "\n",
        "print(\"\\nDepartment Wise Average Salary:\\n\")\n",
        "print(avg_salary_by_dept)"
      ],
      "metadata": {
        "colab": {
          "base_uri": "https://localhost:8080/"
        },
        "id": "SXCVYaqV2DYz",
        "outputId": "1f026aae-9776-4f40-80c9-decda20d2973"
      },
      "execution_count": 114,
      "outputs": [
        {
          "output_type": "stream",
          "name": "stdout",
          "text": [
            "\n",
            "Department Wise Average Salary:\n",
            "\n",
            "  Department  Average Salary\n",
            "0         HR           52500\n",
            "1         IT           61000\n",
            "2  Marketing           58000\n"
          ]
        }
      ]
    },
    {
      "cell_type": "markdown",
      "source": [
        "**Findings** : The IT department has the highest average salary at BDT 61,000, followed by Marketing at BDT 58,000, and HR at BDT 52,500."
      ],
      "metadata": {
        "id": "-R0sE-9X8DVt"
      }
    },
    {
      "cell_type": "markdown",
      "source": [
        "**Save the DataFrame to a CSV file**"
      ],
      "metadata": {
        "id": "T84Wd2Lh8Ut6"
      }
    },
    {
      "cell_type": "code",
      "source": [
        "# Save the full DataFrame to a CSV file\n",
        "df.to_csv('employee_data.csv', index=False)\n",
        "\n",
        "print(\"DataFrame has been saved to 'employee_data.csv'\")"
      ],
      "metadata": {
        "colab": {
          "base_uri": "https://localhost:8080/"
        },
        "id": "MMd0B1-U8R32",
        "outputId": "21966fff-cf8f-4e41-d0a8-56db8286622f"
      },
      "execution_count": 115,
      "outputs": [
        {
          "output_type": "stream",
          "name": "stdout",
          "text": [
            "DataFrame has been saved to 'employee_data.csv'\n"
          ]
        }
      ]
    },
    {
      "cell_type": "markdown",
      "source": [
        "## **Task 4: Data Cleaning & Analysis**"
      ],
      "metadata": {
        "id": "DVswgMNy9YFB"
      }
    },
    {
      "cell_type": "markdown",
      "source": [
        "**Want to connect kaggle with the colab to load kaggle dataset**"
      ],
      "metadata": {
        "id": "Fe_v0XPcJiYJ"
      }
    },
    {
      "cell_type": "code",
      "source": [
        "#Install Kaggle\n",
        "!pip install -q kaggle\n"
      ],
      "metadata": {
        "id": "WP77GFkrEn2b"
      },
      "execution_count": 122,
      "outputs": []
    },
    {
      "cell_type": "code",
      "source": [
        "#Upload kaggle.json file\n",
        "from google.colab import files\n",
        "files.upload()"
      ],
      "metadata": {
        "colab": {
          "base_uri": "https://localhost:8080/",
          "height": 90
        },
        "id": "U0xrrXfYGb2z",
        "outputId": "da628072-d52a-440d-fe1f-e2d0ca59a467"
      },
      "execution_count": 123,
      "outputs": [
        {
          "output_type": "display_data",
          "data": {
            "text/plain": [
              "<IPython.core.display.HTML object>"
            ],
            "text/html": [
              "\n",
              "     <input type=\"file\" id=\"files-46fee16a-1d3d-47fa-874f-e12f5f46a273\" name=\"files[]\" multiple disabled\n",
              "        style=\"border:none\" />\n",
              "     <output id=\"result-46fee16a-1d3d-47fa-874f-e12f5f46a273\">\n",
              "      Upload widget is only available when the cell has been executed in the\n",
              "      current browser session. Please rerun this cell to enable.\n",
              "      </output>\n",
              "      <script>// Copyright 2017 Google LLC\n",
              "//\n",
              "// Licensed under the Apache License, Version 2.0 (the \"License\");\n",
              "// you may not use this file except in compliance with the License.\n",
              "// You may obtain a copy of the License at\n",
              "//\n",
              "//      http://www.apache.org/licenses/LICENSE-2.0\n",
              "//\n",
              "// Unless required by applicable law or agreed to in writing, software\n",
              "// distributed under the License is distributed on an \"AS IS\" BASIS,\n",
              "// WITHOUT WARRANTIES OR CONDITIONS OF ANY KIND, either express or implied.\n",
              "// See the License for the specific language governing permissions and\n",
              "// limitations under the License.\n",
              "\n",
              "/**\n",
              " * @fileoverview Helpers for google.colab Python module.\n",
              " */\n",
              "(function(scope) {\n",
              "function span(text, styleAttributes = {}) {\n",
              "  const element = document.createElement('span');\n",
              "  element.textContent = text;\n",
              "  for (const key of Object.keys(styleAttributes)) {\n",
              "    element.style[key] = styleAttributes[key];\n",
              "  }\n",
              "  return element;\n",
              "}\n",
              "\n",
              "// Max number of bytes which will be uploaded at a time.\n",
              "const MAX_PAYLOAD_SIZE = 100 * 1024;\n",
              "\n",
              "function _uploadFiles(inputId, outputId) {\n",
              "  const steps = uploadFilesStep(inputId, outputId);\n",
              "  const outputElement = document.getElementById(outputId);\n",
              "  // Cache steps on the outputElement to make it available for the next call\n",
              "  // to uploadFilesContinue from Python.\n",
              "  outputElement.steps = steps;\n",
              "\n",
              "  return _uploadFilesContinue(outputId);\n",
              "}\n",
              "\n",
              "// This is roughly an async generator (not supported in the browser yet),\n",
              "// where there are multiple asynchronous steps and the Python side is going\n",
              "// to poll for completion of each step.\n",
              "// This uses a Promise to block the python side on completion of each step,\n",
              "// then passes the result of the previous step as the input to the next step.\n",
              "function _uploadFilesContinue(outputId) {\n",
              "  const outputElement = document.getElementById(outputId);\n",
              "  const steps = outputElement.steps;\n",
              "\n",
              "  const next = steps.next(outputElement.lastPromiseValue);\n",
              "  return Promise.resolve(next.value.promise).then((value) => {\n",
              "    // Cache the last promise value to make it available to the next\n",
              "    // step of the generator.\n",
              "    outputElement.lastPromiseValue = value;\n",
              "    return next.value.response;\n",
              "  });\n",
              "}\n",
              "\n",
              "/**\n",
              " * Generator function which is called between each async step of the upload\n",
              " * process.\n",
              " * @param {string} inputId Element ID of the input file picker element.\n",
              " * @param {string} outputId Element ID of the output display.\n",
              " * @return {!Iterable<!Object>} Iterable of next steps.\n",
              " */\n",
              "function* uploadFilesStep(inputId, outputId) {\n",
              "  const inputElement = document.getElementById(inputId);\n",
              "  inputElement.disabled = false;\n",
              "\n",
              "  const outputElement = document.getElementById(outputId);\n",
              "  outputElement.innerHTML = '';\n",
              "\n",
              "  const pickedPromise = new Promise((resolve) => {\n",
              "    inputElement.addEventListener('change', (e) => {\n",
              "      resolve(e.target.files);\n",
              "    });\n",
              "  });\n",
              "\n",
              "  const cancel = document.createElement('button');\n",
              "  inputElement.parentElement.appendChild(cancel);\n",
              "  cancel.textContent = 'Cancel upload';\n",
              "  const cancelPromise = new Promise((resolve) => {\n",
              "    cancel.onclick = () => {\n",
              "      resolve(null);\n",
              "    };\n",
              "  });\n",
              "\n",
              "  // Wait for the user to pick the files.\n",
              "  const files = yield {\n",
              "    promise: Promise.race([pickedPromise, cancelPromise]),\n",
              "    response: {\n",
              "      action: 'starting',\n",
              "    }\n",
              "  };\n",
              "\n",
              "  cancel.remove();\n",
              "\n",
              "  // Disable the input element since further picks are not allowed.\n",
              "  inputElement.disabled = true;\n",
              "\n",
              "  if (!files) {\n",
              "    return {\n",
              "      response: {\n",
              "        action: 'complete',\n",
              "      }\n",
              "    };\n",
              "  }\n",
              "\n",
              "  for (const file of files) {\n",
              "    const li = document.createElement('li');\n",
              "    li.append(span(file.name, {fontWeight: 'bold'}));\n",
              "    li.append(span(\n",
              "        `(${file.type || 'n/a'}) - ${file.size} bytes, ` +\n",
              "        `last modified: ${\n",
              "            file.lastModifiedDate ? file.lastModifiedDate.toLocaleDateString() :\n",
              "                                    'n/a'} - `));\n",
              "    const percent = span('0% done');\n",
              "    li.appendChild(percent);\n",
              "\n",
              "    outputElement.appendChild(li);\n",
              "\n",
              "    const fileDataPromise = new Promise((resolve) => {\n",
              "      const reader = new FileReader();\n",
              "      reader.onload = (e) => {\n",
              "        resolve(e.target.result);\n",
              "      };\n",
              "      reader.readAsArrayBuffer(file);\n",
              "    });\n",
              "    // Wait for the data to be ready.\n",
              "    let fileData = yield {\n",
              "      promise: fileDataPromise,\n",
              "      response: {\n",
              "        action: 'continue',\n",
              "      }\n",
              "    };\n",
              "\n",
              "    // Use a chunked sending to avoid message size limits. See b/62115660.\n",
              "    let position = 0;\n",
              "    do {\n",
              "      const length = Math.min(fileData.byteLength - position, MAX_PAYLOAD_SIZE);\n",
              "      const chunk = new Uint8Array(fileData, position, length);\n",
              "      position += length;\n",
              "\n",
              "      const base64 = btoa(String.fromCharCode.apply(null, chunk));\n",
              "      yield {\n",
              "        response: {\n",
              "          action: 'append',\n",
              "          file: file.name,\n",
              "          data: base64,\n",
              "        },\n",
              "      };\n",
              "\n",
              "      let percentDone = fileData.byteLength === 0 ?\n",
              "          100 :\n",
              "          Math.round((position / fileData.byteLength) * 100);\n",
              "      percent.textContent = `${percentDone}% done`;\n",
              "\n",
              "    } while (position < fileData.byteLength);\n",
              "  }\n",
              "\n",
              "  // All done.\n",
              "  yield {\n",
              "    response: {\n",
              "      action: 'complete',\n",
              "    }\n",
              "  };\n",
              "}\n",
              "\n",
              "scope.google = scope.google || {};\n",
              "scope.google.colab = scope.google.colab || {};\n",
              "scope.google.colab._files = {\n",
              "  _uploadFiles,\n",
              "  _uploadFilesContinue,\n",
              "};\n",
              "})(self);\n",
              "</script> "
            ]
          },
          "metadata": {}
        },
        {
          "output_type": "stream",
          "name": "stdout",
          "text": [
            "Saving kaggle.json to kaggle.json\n"
          ]
        },
        {
          "output_type": "execute_result",
          "data": {
            "text/plain": [
              "{'kaggle.json': b'{\"username\":\"tajbiulnomanrafi\",\"key\":\"a45a98989b867bf8ec7f92e219e01c69\"}'}"
            ]
          },
          "metadata": {},
          "execution_count": 123
        }
      ]
    },
    {
      "cell_type": "code",
      "source": [
        "#Create Kaggle directory\n",
        "!mkdir -p ~/.kaggle\n",
        "\n",
        "#Copy Kaggle.json file\n",
        "!cp kaggle.json ~/.kaggle/\n",
        "\n",
        "#Provide the permission\n",
        "!chmod 600 ~/.kaggle/kaggle.json\n"
      ],
      "metadata": {
        "id": "MCxAXYPqFXHF"
      },
      "execution_count": 124,
      "outputs": []
    },
    {
      "cell_type": "code",
      "source": [
        "#Checking the permission\n",
        "!ls -ltr ~/.kaggle"
      ],
      "metadata": {
        "colab": {
          "base_uri": "https://localhost:8080/"
        },
        "id": "B19uw_HzHjGN",
        "outputId": "4e6a8f49-4b39-4dc5-9948-286c7ea2112a"
      },
      "execution_count": 127,
      "outputs": [
        {
          "output_type": "stream",
          "name": "stdout",
          "text": [
            "total 4\n",
            "-rw------- 1 root root 72 Oct 19 20:16 kaggle.json\n"
          ]
        }
      ]
    },
    {
      "cell_type": "code",
      "source": [
        "# Download the dataset\n",
        "!kaggle datasets download -d abdallaahmed77/healthcare-risk-factors-dataset\n"
      ],
      "metadata": {
        "colab": {
          "base_uri": "https://localhost:8080/"
        },
        "id": "7uoTYe_G9dmp",
        "outputId": "694dc300-c732-441e-b862-b6fb23c33939"
      },
      "execution_count": 151,
      "outputs": [
        {
          "output_type": "stream",
          "name": "stdout",
          "text": [
            "Dataset URL: https://www.kaggle.com/datasets/abdallaahmed77/healthcare-risk-factors-dataset\n",
            "License(s): CC0-1.0\n",
            "healthcare-risk-factors-dataset.zip: Skipping, found more recently modified local copy (use --force to force download)\n"
          ]
        }
      ]
    },
    {
      "cell_type": "code",
      "source": [
        "#Unzip the dataset\n",
        "!unzip healthcare-risk-factors-dataset.zip"
      ],
      "metadata": {
        "colab": {
          "base_uri": "https://localhost:8080/"
        },
        "id": "2Obg3s9mIdrl",
        "outputId": "ae236cf3-acf6-4f46-c3f9-b8bbbc9ec0c2"
      },
      "execution_count": 152,
      "outputs": [
        {
          "output_type": "stream",
          "name": "stdout",
          "text": [
            "Archive:  healthcare-risk-factors-dataset.zip\n",
            "  inflating: dirty_v3_path.csv       \n"
          ]
        }
      ]
    },
    {
      "cell_type": "code",
      "source": [
        "#Want to see the file name\n",
        "!ls\n"
      ],
      "metadata": {
        "colab": {
          "base_uri": "https://localhost:8080/"
        },
        "id": "YToaQ_vhIxn7",
        "outputId": "eabca38d-f18c-4982-b8fd-3cc68850a32f"
      },
      "execution_count": 157,
      "outputs": [
        {
          "output_type": "stream",
          "name": "stdout",
          "text": [
            "dirty_v3_path.csv\n",
            "drive\n",
            "healthcare-risk-factors-dataset.zip\n",
            "kaggle.json\n",
            "netflix1.csv\n",
            "netflix-data-cleaning-analysis-and-visualization.zip\n",
            "sample_data\n",
            "titanic.csv\n"
          ]
        }
      ]
    },
    {
      "cell_type": "markdown",
      "source": [
        "**Load the dataset**"
      ],
      "metadata": {
        "id": "D1IdVFgcJYLy"
      }
    },
    {
      "cell_type": "code",
      "source": [
        "import pandas as pd\n",
        "\n",
        "#Load the Dataset\n",
        "df = pd.read_csv(\"dirty_v3_path.csv\")\n",
        "\n"
      ],
      "metadata": {
        "id": "knf_QfRzIkc8"
      },
      "execution_count": 158,
      "outputs": []
    },
    {
      "cell_type": "markdown",
      "source": [
        "**Showing First 5 and Last 5 Rows**"
      ],
      "metadata": {
        "id": "BXSXhvMbJ6pC"
      }
    },
    {
      "cell_type": "code",
      "source": [
        "df.head()\n",
        "\n",
        "\n"
      ],
      "metadata": {
        "colab": {
          "base_uri": "https://localhost:8080/",
          "height": 224
        },
        "id": "rWp6t6ocJ-v7",
        "outputId": "97bc281f-9aa7-4fcd-ec0c-2affda2c5552"
      },
      "execution_count": 159,
      "outputs": [
        {
          "output_type": "execute_result",
          "data": {
            "text/plain": [
              "    Age  Gender Medical Condition  Glucose  Blood Pressure    BMI  \\\n",
              "0  46.0    Male          Diabetes   137.04          135.27  28.90   \n",
              "1  22.0    Male           Healthy    71.58          113.27  26.29   \n",
              "2  50.0     NaN            Asthma    95.24             NaN  22.53   \n",
              "3  57.0     NaN           Obesity      NaN          130.53  38.47   \n",
              "4  66.0  Female      Hypertension    95.15          178.17  31.12   \n",
              "\n",
              "   Oxygen Saturation  LengthOfStay  Cholesterol  Triglycerides  HbA1c  \\\n",
              "0              96.04             6       231.88         210.56   7.61   \n",
              "1              97.54             2       165.57         129.41   4.91   \n",
              "2              90.31             2       214.94         165.35   5.60   \n",
              "3              96.60             5       197.71         182.13   6.92   \n",
              "4              94.90             4       259.53         115.85   5.98   \n",
              "\n",
              "   Smoking  Alcohol  Physical Activity  Diet Score  Family History  \\\n",
              "0        0        0              -0.20        3.54               0   \n",
              "1        0        0               8.12        5.90               0   \n",
              "2        0        0               5.01        4.65               1   \n",
              "3        0        0               3.16        3.37               0   \n",
              "4        0        1               3.56        3.40               0   \n",
              "\n",
              "   Stress Level  Sleep Hours random_notes   noise_col  \n",
              "0          5.07         6.05        lorem -137.057211  \n",
              "1          5.87         7.72        ipsum  -11.230610  \n",
              "2          3.09         4.82        ipsum   98.331195  \n",
              "3          3.01         5.33        lorem   44.187175  \n",
              "4          6.38         6.64        lorem   44.831426  "
            ],
            "text/html": [
              "\n",
              "  <div id=\"df-bc36000d-22c5-4f14-a1c1-2199e4877493\" class=\"colab-df-container\">\n",
              "    <div>\n",
              "<style scoped>\n",
              "    .dataframe tbody tr th:only-of-type {\n",
              "        vertical-align: middle;\n",
              "    }\n",
              "\n",
              "    .dataframe tbody tr th {\n",
              "        vertical-align: top;\n",
              "    }\n",
              "\n",
              "    .dataframe thead th {\n",
              "        text-align: right;\n",
              "    }\n",
              "</style>\n",
              "<table border=\"1\" class=\"dataframe\">\n",
              "  <thead>\n",
              "    <tr style=\"text-align: right;\">\n",
              "      <th></th>\n",
              "      <th>Age</th>\n",
              "      <th>Gender</th>\n",
              "      <th>Medical Condition</th>\n",
              "      <th>Glucose</th>\n",
              "      <th>Blood Pressure</th>\n",
              "      <th>BMI</th>\n",
              "      <th>Oxygen Saturation</th>\n",
              "      <th>LengthOfStay</th>\n",
              "      <th>Cholesterol</th>\n",
              "      <th>Triglycerides</th>\n",
              "      <th>HbA1c</th>\n",
              "      <th>Smoking</th>\n",
              "      <th>Alcohol</th>\n",
              "      <th>Physical Activity</th>\n",
              "      <th>Diet Score</th>\n",
              "      <th>Family History</th>\n",
              "      <th>Stress Level</th>\n",
              "      <th>Sleep Hours</th>\n",
              "      <th>random_notes</th>\n",
              "      <th>noise_col</th>\n",
              "    </tr>\n",
              "  </thead>\n",
              "  <tbody>\n",
              "    <tr>\n",
              "      <th>0</th>\n",
              "      <td>46.0</td>\n",
              "      <td>Male</td>\n",
              "      <td>Diabetes</td>\n",
              "      <td>137.04</td>\n",
              "      <td>135.27</td>\n",
              "      <td>28.90</td>\n",
              "      <td>96.04</td>\n",
              "      <td>6</td>\n",
              "      <td>231.88</td>\n",
              "      <td>210.56</td>\n",
              "      <td>7.61</td>\n",
              "      <td>0</td>\n",
              "      <td>0</td>\n",
              "      <td>-0.20</td>\n",
              "      <td>3.54</td>\n",
              "      <td>0</td>\n",
              "      <td>5.07</td>\n",
              "      <td>6.05</td>\n",
              "      <td>lorem</td>\n",
              "      <td>-137.057211</td>\n",
              "    </tr>\n",
              "    <tr>\n",
              "      <th>1</th>\n",
              "      <td>22.0</td>\n",
              "      <td>Male</td>\n",
              "      <td>Healthy</td>\n",
              "      <td>71.58</td>\n",
              "      <td>113.27</td>\n",
              "      <td>26.29</td>\n",
              "      <td>97.54</td>\n",
              "      <td>2</td>\n",
              "      <td>165.57</td>\n",
              "      <td>129.41</td>\n",
              "      <td>4.91</td>\n",
              "      <td>0</td>\n",
              "      <td>0</td>\n",
              "      <td>8.12</td>\n",
              "      <td>5.90</td>\n",
              "      <td>0</td>\n",
              "      <td>5.87</td>\n",
              "      <td>7.72</td>\n",
              "      <td>ipsum</td>\n",
              "      <td>-11.230610</td>\n",
              "    </tr>\n",
              "    <tr>\n",
              "      <th>2</th>\n",
              "      <td>50.0</td>\n",
              "      <td>NaN</td>\n",
              "      <td>Asthma</td>\n",
              "      <td>95.24</td>\n",
              "      <td>NaN</td>\n",
              "      <td>22.53</td>\n",
              "      <td>90.31</td>\n",
              "      <td>2</td>\n",
              "      <td>214.94</td>\n",
              "      <td>165.35</td>\n",
              "      <td>5.60</td>\n",
              "      <td>0</td>\n",
              "      <td>0</td>\n",
              "      <td>5.01</td>\n",
              "      <td>4.65</td>\n",
              "      <td>1</td>\n",
              "      <td>3.09</td>\n",
              "      <td>4.82</td>\n",
              "      <td>ipsum</td>\n",
              "      <td>98.331195</td>\n",
              "    </tr>\n",
              "    <tr>\n",
              "      <th>3</th>\n",
              "      <td>57.0</td>\n",
              "      <td>NaN</td>\n",
              "      <td>Obesity</td>\n",
              "      <td>NaN</td>\n",
              "      <td>130.53</td>\n",
              "      <td>38.47</td>\n",
              "      <td>96.60</td>\n",
              "      <td>5</td>\n",
              "      <td>197.71</td>\n",
              "      <td>182.13</td>\n",
              "      <td>6.92</td>\n",
              "      <td>0</td>\n",
              "      <td>0</td>\n",
              "      <td>3.16</td>\n",
              "      <td>3.37</td>\n",
              "      <td>0</td>\n",
              "      <td>3.01</td>\n",
              "      <td>5.33</td>\n",
              "      <td>lorem</td>\n",
              "      <td>44.187175</td>\n",
              "    </tr>\n",
              "    <tr>\n",
              "      <th>4</th>\n",
              "      <td>66.0</td>\n",
              "      <td>Female</td>\n",
              "      <td>Hypertension</td>\n",
              "      <td>95.15</td>\n",
              "      <td>178.17</td>\n",
              "      <td>31.12</td>\n",
              "      <td>94.90</td>\n",
              "      <td>4</td>\n",
              "      <td>259.53</td>\n",
              "      <td>115.85</td>\n",
              "      <td>5.98</td>\n",
              "      <td>0</td>\n",
              "      <td>1</td>\n",
              "      <td>3.56</td>\n",
              "      <td>3.40</td>\n",
              "      <td>0</td>\n",
              "      <td>6.38</td>\n",
              "      <td>6.64</td>\n",
              "      <td>lorem</td>\n",
              "      <td>44.831426</td>\n",
              "    </tr>\n",
              "  </tbody>\n",
              "</table>\n",
              "</div>\n",
              "    <div class=\"colab-df-buttons\">\n",
              "\n",
              "  <div class=\"colab-df-container\">\n",
              "    <button class=\"colab-df-convert\" onclick=\"convertToInteractive('df-bc36000d-22c5-4f14-a1c1-2199e4877493')\"\n",
              "            title=\"Convert this dataframe to an interactive table.\"\n",
              "            style=\"display:none;\">\n",
              "\n",
              "  <svg xmlns=\"http://www.w3.org/2000/svg\" height=\"24px\" viewBox=\"0 -960 960 960\">\n",
              "    <path d=\"M120-120v-720h720v720H120Zm60-500h600v-160H180v160Zm220 220h160v-160H400v160Zm0 220h160v-160H400v160ZM180-400h160v-160H180v160Zm440 0h160v-160H620v160ZM180-180h160v-160H180v160Zm440 0h160v-160H620v160Z\"/>\n",
              "  </svg>\n",
              "    </button>\n",
              "\n",
              "  <style>\n",
              "    .colab-df-container {\n",
              "      display:flex;\n",
              "      gap: 12px;\n",
              "    }\n",
              "\n",
              "    .colab-df-convert {\n",
              "      background-color: #E8F0FE;\n",
              "      border: none;\n",
              "      border-radius: 50%;\n",
              "      cursor: pointer;\n",
              "      display: none;\n",
              "      fill: #1967D2;\n",
              "      height: 32px;\n",
              "      padding: 0 0 0 0;\n",
              "      width: 32px;\n",
              "    }\n",
              "\n",
              "    .colab-df-convert:hover {\n",
              "      background-color: #E2EBFA;\n",
              "      box-shadow: 0px 1px 2px rgba(60, 64, 67, 0.3), 0px 1px 3px 1px rgba(60, 64, 67, 0.15);\n",
              "      fill: #174EA6;\n",
              "    }\n",
              "\n",
              "    .colab-df-buttons div {\n",
              "      margin-bottom: 4px;\n",
              "    }\n",
              "\n",
              "    [theme=dark] .colab-df-convert {\n",
              "      background-color: #3B4455;\n",
              "      fill: #D2E3FC;\n",
              "    }\n",
              "\n",
              "    [theme=dark] .colab-df-convert:hover {\n",
              "      background-color: #434B5C;\n",
              "      box-shadow: 0px 1px 3px 1px rgba(0, 0, 0, 0.15);\n",
              "      filter: drop-shadow(0px 1px 2px rgba(0, 0, 0, 0.3));\n",
              "      fill: #FFFFFF;\n",
              "    }\n",
              "  </style>\n",
              "\n",
              "    <script>\n",
              "      const buttonEl =\n",
              "        document.querySelector('#df-bc36000d-22c5-4f14-a1c1-2199e4877493 button.colab-df-convert');\n",
              "      buttonEl.style.display =\n",
              "        google.colab.kernel.accessAllowed ? 'block' : 'none';\n",
              "\n",
              "      async function convertToInteractive(key) {\n",
              "        const element = document.querySelector('#df-bc36000d-22c5-4f14-a1c1-2199e4877493');\n",
              "        const dataTable =\n",
              "          await google.colab.kernel.invokeFunction('convertToInteractive',\n",
              "                                                    [key], {});\n",
              "        if (!dataTable) return;\n",
              "\n",
              "        const docLinkHtml = 'Like what you see? Visit the ' +\n",
              "          '<a target=\"_blank\" href=https://colab.research.google.com/notebooks/data_table.ipynb>data table notebook</a>'\n",
              "          + ' to learn more about interactive tables.';\n",
              "        element.innerHTML = '';\n",
              "        dataTable['output_type'] = 'display_data';\n",
              "        await google.colab.output.renderOutput(dataTable, element);\n",
              "        const docLink = document.createElement('div');\n",
              "        docLink.innerHTML = docLinkHtml;\n",
              "        element.appendChild(docLink);\n",
              "      }\n",
              "    </script>\n",
              "  </div>\n",
              "\n",
              "\n",
              "    <div id=\"df-651a9bea-ca7e-48e6-8c0a-497cdc8d8175\">\n",
              "      <button class=\"colab-df-quickchart\" onclick=\"quickchart('df-651a9bea-ca7e-48e6-8c0a-497cdc8d8175')\"\n",
              "                title=\"Suggest charts\"\n",
              "                style=\"display:none;\">\n",
              "\n",
              "<svg xmlns=\"http://www.w3.org/2000/svg\" height=\"24px\"viewBox=\"0 0 24 24\"\n",
              "     width=\"24px\">\n",
              "    <g>\n",
              "        <path d=\"M19 3H5c-1.1 0-2 .9-2 2v14c0 1.1.9 2 2 2h14c1.1 0 2-.9 2-2V5c0-1.1-.9-2-2-2zM9 17H7v-7h2v7zm4 0h-2V7h2v10zm4 0h-2v-4h2v4z\"/>\n",
              "    </g>\n",
              "</svg>\n",
              "      </button>\n",
              "\n",
              "<style>\n",
              "  .colab-df-quickchart {\n",
              "      --bg-color: #E8F0FE;\n",
              "      --fill-color: #1967D2;\n",
              "      --hover-bg-color: #E2EBFA;\n",
              "      --hover-fill-color: #174EA6;\n",
              "      --disabled-fill-color: #AAA;\n",
              "      --disabled-bg-color: #DDD;\n",
              "  }\n",
              "\n",
              "  [theme=dark] .colab-df-quickchart {\n",
              "      --bg-color: #3B4455;\n",
              "      --fill-color: #D2E3FC;\n",
              "      --hover-bg-color: #434B5C;\n",
              "      --hover-fill-color: #FFFFFF;\n",
              "      --disabled-bg-color: #3B4455;\n",
              "      --disabled-fill-color: #666;\n",
              "  }\n",
              "\n",
              "  .colab-df-quickchart {\n",
              "    background-color: var(--bg-color);\n",
              "    border: none;\n",
              "    border-radius: 50%;\n",
              "    cursor: pointer;\n",
              "    display: none;\n",
              "    fill: var(--fill-color);\n",
              "    height: 32px;\n",
              "    padding: 0;\n",
              "    width: 32px;\n",
              "  }\n",
              "\n",
              "  .colab-df-quickchart:hover {\n",
              "    background-color: var(--hover-bg-color);\n",
              "    box-shadow: 0 1px 2px rgba(60, 64, 67, 0.3), 0 1px 3px 1px rgba(60, 64, 67, 0.15);\n",
              "    fill: var(--button-hover-fill-color);\n",
              "  }\n",
              "\n",
              "  .colab-df-quickchart-complete:disabled,\n",
              "  .colab-df-quickchart-complete:disabled:hover {\n",
              "    background-color: var(--disabled-bg-color);\n",
              "    fill: var(--disabled-fill-color);\n",
              "    box-shadow: none;\n",
              "  }\n",
              "\n",
              "  .colab-df-spinner {\n",
              "    border: 2px solid var(--fill-color);\n",
              "    border-color: transparent;\n",
              "    border-bottom-color: var(--fill-color);\n",
              "    animation:\n",
              "      spin 1s steps(1) infinite;\n",
              "  }\n",
              "\n",
              "  @keyframes spin {\n",
              "    0% {\n",
              "      border-color: transparent;\n",
              "      border-bottom-color: var(--fill-color);\n",
              "      border-left-color: var(--fill-color);\n",
              "    }\n",
              "    20% {\n",
              "      border-color: transparent;\n",
              "      border-left-color: var(--fill-color);\n",
              "      border-top-color: var(--fill-color);\n",
              "    }\n",
              "    30% {\n",
              "      border-color: transparent;\n",
              "      border-left-color: var(--fill-color);\n",
              "      border-top-color: var(--fill-color);\n",
              "      border-right-color: var(--fill-color);\n",
              "    }\n",
              "    40% {\n",
              "      border-color: transparent;\n",
              "      border-right-color: var(--fill-color);\n",
              "      border-top-color: var(--fill-color);\n",
              "    }\n",
              "    60% {\n",
              "      border-color: transparent;\n",
              "      border-right-color: var(--fill-color);\n",
              "    }\n",
              "    80% {\n",
              "      border-color: transparent;\n",
              "      border-right-color: var(--fill-color);\n",
              "      border-bottom-color: var(--fill-color);\n",
              "    }\n",
              "    90% {\n",
              "      border-color: transparent;\n",
              "      border-bottom-color: var(--fill-color);\n",
              "    }\n",
              "  }\n",
              "</style>\n",
              "\n",
              "      <script>\n",
              "        async function quickchart(key) {\n",
              "          const quickchartButtonEl =\n",
              "            document.querySelector('#' + key + ' button');\n",
              "          quickchartButtonEl.disabled = true;  // To prevent multiple clicks.\n",
              "          quickchartButtonEl.classList.add('colab-df-spinner');\n",
              "          try {\n",
              "            const charts = await google.colab.kernel.invokeFunction(\n",
              "                'suggestCharts', [key], {});\n",
              "          } catch (error) {\n",
              "            console.error('Error during call to suggestCharts:', error);\n",
              "          }\n",
              "          quickchartButtonEl.classList.remove('colab-df-spinner');\n",
              "          quickchartButtonEl.classList.add('colab-df-quickchart-complete');\n",
              "        }\n",
              "        (() => {\n",
              "          let quickchartButtonEl =\n",
              "            document.querySelector('#df-651a9bea-ca7e-48e6-8c0a-497cdc8d8175 button');\n",
              "          quickchartButtonEl.style.display =\n",
              "            google.colab.kernel.accessAllowed ? 'block' : 'none';\n",
              "        })();\n",
              "      </script>\n",
              "    </div>\n",
              "\n",
              "    </div>\n",
              "  </div>\n"
            ],
            "application/vnd.google.colaboratory.intrinsic+json": {
              "type": "dataframe",
              "variable_name": "df",
              "summary": "{\n  \"name\": \"df\",\n  \"rows\": 30000,\n  \"fields\": [\n    {\n      \"column\": \"Age\",\n      \"properties\": {\n        \"dtype\": \"number\",\n        \"std\": 15.973618413114838,\n        \"min\": 10.0,\n        \"max\": 89.0,\n        \"num_unique_values\": 80,\n        \"samples\": [\n          55.0,\n          46.0,\n          25.0\n        ],\n        \"semantic_type\": \"\",\n        \"description\": \"\"\n      }\n    },\n    {\n      \"column\": \"Gender\",\n      \"properties\": {\n        \"dtype\": \"category\",\n        \"num_unique_values\": 2,\n        \"samples\": [\n          \"Female\",\n          \"Male\"\n        ],\n        \"semantic_type\": \"\",\n        \"description\": \"\"\n      }\n    },\n    {\n      \"column\": \"Medical Condition\",\n      \"properties\": {\n        \"dtype\": \"category\",\n        \"num_unique_values\": 7,\n        \"samples\": [\n          \"Diabetes\",\n          \"Healthy\"\n        ],\n        \"semantic_type\": \"\",\n        \"description\": \"\"\n      }\n    },\n    {\n      \"column\": \"Glucose\",\n      \"properties\": {\n        \"dtype\": \"number\",\n        \"std\": 41.57694338979088,\n        \"min\": 20.32,\n        \"max\": 318.51,\n        \"num_unique_values\": 11097,\n        \"samples\": [\n          72.89,\n          111.08\n        ],\n        \"semantic_type\": \"\",\n        \"description\": \"\"\n      }\n    },\n    {\n      \"column\": \"Blood Pressure\",\n      \"properties\": {\n        \"dtype\": \"number\",\n        \"std\": 21.077932876157266,\n        \"min\": 74.24,\n        \"max\": 226.38,\n        \"num_unique_values\": 8259,\n        \"samples\": [\n          118.88,\n          159.52\n        ],\n        \"semantic_type\": \"\",\n        \"description\": \"\"\n      }\n    },\n    {\n      \"column\": \"BMI\",\n      \"properties\": {\n        \"dtype\": \"number\",\n        \"std\": 5.728803504938212,\n        \"min\": 7.67,\n        \"max\": 56.85,\n        \"num_unique_values\": 3097,\n        \"samples\": [\n          37.76,\n          23.56\n        ],\n        \"semantic_type\": \"\",\n        \"description\": \"\"\n      }\n    },\n    {\n      \"column\": \"Oxygen Saturation\",\n      \"properties\": {\n        \"dtype\": \"number\",\n        \"std\": 3.7362024258447324,\n        \"min\": 67.51,\n        \"max\": 110.07,\n        \"num_unique_values\": 2267,\n        \"samples\": [\n          101.67,\n          92.77\n        ],\n        \"semantic_type\": \"\",\n        \"description\": \"\"\n      }\n    },\n    {\n      \"column\": \"LengthOfStay\",\n      \"properties\": {\n        \"dtype\": \"number\",\n        \"std\": 2,\n        \"min\": 1,\n        \"max\": 19,\n        \"num_unique_values\": 19,\n        \"samples\": [\n          6,\n          19\n        ],\n        \"semantic_type\": \"\",\n        \"description\": \"\"\n      }\n    },\n    {\n      \"column\": \"Cholesterol\",\n      \"properties\": {\n        \"dtype\": \"number\",\n        \"std\": 33.51975737691397,\n        \"min\": 95.73,\n        \"max\": 358.37,\n        \"num_unique_values\": 12021,\n        \"samples\": [\n          144.14,\n          277.72\n        ],\n        \"semantic_type\": \"\",\n        \"description\": \"\"\n      }\n    },\n    {\n      \"column\": \"Triglycerides\",\n      \"properties\": {\n        \"dtype\": \"number\",\n        \"std\": 48.81282670722248,\n        \"min\": -22.48,\n        \"max\": 421.51,\n        \"num_unique_values\": 14840,\n        \"samples\": [\n          271.07,\n          174.5\n        ],\n        \"semantic_type\": \"\",\n        \"description\": \"\"\n      }\n    },\n    {\n      \"column\": \"HbA1c\",\n      \"properties\": {\n        \"dtype\": \"number\",\n        \"std\": 1.3202693041846425,\n        \"min\": 3.28,\n        \"max\": 12.36,\n        \"num_unique_values\": 770,\n        \"samples\": [\n          3.37,\n          11.77\n        ],\n        \"semantic_type\": \"\",\n        \"description\": \"\"\n      }\n    },\n    {\n      \"column\": \"Smoking\",\n      \"properties\": {\n        \"dtype\": \"number\",\n        \"std\": 0,\n        \"min\": 0,\n        \"max\": 1,\n        \"num_unique_values\": 2,\n        \"samples\": [\n          1,\n          0\n        ],\n        \"semantic_type\": \"\",\n        \"description\": \"\"\n      }\n    },\n    {\n      \"column\": \"Alcohol\",\n      \"properties\": {\n        \"dtype\": \"number\",\n        \"std\": 0,\n        \"min\": 0,\n        \"max\": 1,\n        \"num_unique_values\": 2,\n        \"samples\": [\n          1,\n          0\n        ],\n        \"semantic_type\": \"\",\n        \"description\": \"\"\n      }\n    },\n    {\n      \"column\": \"Physical Activity\",\n      \"properties\": {\n        \"dtype\": \"number\",\n        \"std\": 2.011728618161263,\n        \"min\": -3.68,\n        \"max\": 12.41,\n        \"num_unique_values\": 1154,\n        \"samples\": [\n          0.46,\n          4.89\n        ],\n        \"semantic_type\": \"\",\n        \"description\": \"\"\n      }\n    },\n    {\n      \"column\": \"Diet Score\",\n      \"properties\": {\n        \"dtype\": \"number\",\n        \"std\": 1.8171652519895871,\n        \"min\": -1.75,\n        \"max\": 12.06,\n        \"num_unique_values\": 1103,\n        \"samples\": [\n          2.72,\n          9.89\n        ],\n        \"semantic_type\": \"\",\n        \"description\": \"\"\n      }\n    },\n    {\n      \"column\": \"Family History\",\n      \"properties\": {\n        \"dtype\": \"number\",\n        \"std\": 0,\n        \"min\": 0,\n        \"max\": 1,\n        \"num_unique_values\": 2,\n        \"samples\": [\n          1,\n          0\n        ],\n        \"semantic_type\": \"\",\n        \"description\": \"\"\n      }\n    },\n    {\n      \"column\": \"Stress Level\",\n      \"properties\": {\n        \"dtype\": \"number\",\n        \"std\": 2.2250569188540497,\n        \"min\": -2.44,\n        \"max\": 15.45,\n        \"num_unique_values\": 1300,\n        \"samples\": [\n          5.5,\n          0.02\n        ],\n        \"semantic_type\": \"\",\n        \"description\": \"\"\n      }\n    },\n    {\n      \"column\": \"Sleep Hours\",\n      \"properties\": {\n        \"dtype\": \"number\",\n        \"std\": 1.187669331762546,\n        \"min\": 1.59,\n        \"max\": 10.35,\n        \"num_unique_values\": 745,\n        \"samples\": [\n          9.28,\n          9.29\n        ],\n        \"semantic_type\": \"\",\n        \"description\": \"\"\n      }\n    },\n    {\n      \"column\": \"random_notes\",\n      \"properties\": {\n        \"dtype\": \"category\",\n        \"num_unique_values\": 4,\n        \"samples\": [\n          \"ipsum\",\n          \"??\"\n        ],\n        \"semantic_type\": \"\",\n        \"description\": \"\"\n      }\n    },\n    {\n      \"column\": \"noise_col\",\n      \"properties\": {\n        \"dtype\": \"number\",\n        \"std\": 100.07695895258836,\n        \"min\": -412.1695960009927,\n        \"max\": 467.8949100376724,\n        \"num_unique_values\": 30000,\n        \"samples\": [\n          55.94154617143799,\n          -60.69840756035671\n        ],\n        \"semantic_type\": \"\",\n        \"description\": \"\"\n      }\n    }\n  ]\n}"
            }
          },
          "metadata": {},
          "execution_count": 159
        }
      ]
    },
    {
      "cell_type": "code",
      "source": [
        "df.tail()"
      ],
      "metadata": {
        "colab": {
          "base_uri": "https://localhost:8080/",
          "height": 224
        },
        "id": "fxgRpqo_KImL",
        "outputId": "9508fab1-1f43-4d52-83ef-546a16c80434"
      },
      "execution_count": 160,
      "outputs": [
        {
          "output_type": "execute_result",
          "data": {
            "text/plain": [
              "        Age  Gender Medical Condition  Glucose  Blood Pressure    BMI  \\\n",
              "29995  54.0  Female           Healthy    86.35          127.68  28.30   \n",
              "29996  41.0    Male            Asthma    89.24          154.37  24.93   \n",
              "29997  83.0  Female               NaN      NaN          170.11  30.55   \n",
              "29998  41.0    Male          Diabetes   242.87          152.97  23.57   \n",
              "29999  46.0  Female      Hypertension    86.52          159.26  34.55   \n",
              "\n",
              "       Oxygen Saturation  LengthOfStay  Cholesterol  Triglycerides  HbA1c  \\\n",
              "29995              94.36             1       218.60         152.82   4.85   \n",
              "29996              96.07             4       198.30         176.81   5.36   \n",
              "29997              97.83             3       210.13         168.76   5.05   \n",
              "29998              99.17             3       208.86         224.21   7.59   \n",
              "29999              96.60             4       217.37         141.28   5.77   \n",
              "\n",
              "       Smoking  Alcohol  Physical Activity  Diet Score  Family History  \\\n",
              "29995        0        0               9.15       10.35               0   \n",
              "29996        1        0               3.34        3.40               0   \n",
              "29997        0        0               4.53        4.50               0   \n",
              "29998        0        0               3.16        2.59               0   \n",
              "29999        1        0               4.91        5.82               1   \n",
              "\n",
              "       Stress Level  Sleep Hours random_notes   noise_col  \n",
              "29995          3.65         8.71        ipsum   89.573837  \n",
              "29996          6.72         2.81        lorem   -5.864517  \n",
              "29997          4.31         3.61          ###  -30.934595  \n",
              "29998          7.10         5.80        ipsum    5.085258  \n",
              "29999          3.64         5.47        lorem -142.559559  "
            ],
            "text/html": [
              "\n",
              "  <div id=\"df-7fc05bbd-bcf6-407b-90a1-8694375b8465\" class=\"colab-df-container\">\n",
              "    <div>\n",
              "<style scoped>\n",
              "    .dataframe tbody tr th:only-of-type {\n",
              "        vertical-align: middle;\n",
              "    }\n",
              "\n",
              "    .dataframe tbody tr th {\n",
              "        vertical-align: top;\n",
              "    }\n",
              "\n",
              "    .dataframe thead th {\n",
              "        text-align: right;\n",
              "    }\n",
              "</style>\n",
              "<table border=\"1\" class=\"dataframe\">\n",
              "  <thead>\n",
              "    <tr style=\"text-align: right;\">\n",
              "      <th></th>\n",
              "      <th>Age</th>\n",
              "      <th>Gender</th>\n",
              "      <th>Medical Condition</th>\n",
              "      <th>Glucose</th>\n",
              "      <th>Blood Pressure</th>\n",
              "      <th>BMI</th>\n",
              "      <th>Oxygen Saturation</th>\n",
              "      <th>LengthOfStay</th>\n",
              "      <th>Cholesterol</th>\n",
              "      <th>Triglycerides</th>\n",
              "      <th>HbA1c</th>\n",
              "      <th>Smoking</th>\n",
              "      <th>Alcohol</th>\n",
              "      <th>Physical Activity</th>\n",
              "      <th>Diet Score</th>\n",
              "      <th>Family History</th>\n",
              "      <th>Stress Level</th>\n",
              "      <th>Sleep Hours</th>\n",
              "      <th>random_notes</th>\n",
              "      <th>noise_col</th>\n",
              "    </tr>\n",
              "  </thead>\n",
              "  <tbody>\n",
              "    <tr>\n",
              "      <th>29995</th>\n",
              "      <td>54.0</td>\n",
              "      <td>Female</td>\n",
              "      <td>Healthy</td>\n",
              "      <td>86.35</td>\n",
              "      <td>127.68</td>\n",
              "      <td>28.30</td>\n",
              "      <td>94.36</td>\n",
              "      <td>1</td>\n",
              "      <td>218.60</td>\n",
              "      <td>152.82</td>\n",
              "      <td>4.85</td>\n",
              "      <td>0</td>\n",
              "      <td>0</td>\n",
              "      <td>9.15</td>\n",
              "      <td>10.35</td>\n",
              "      <td>0</td>\n",
              "      <td>3.65</td>\n",
              "      <td>8.71</td>\n",
              "      <td>ipsum</td>\n",
              "      <td>89.573837</td>\n",
              "    </tr>\n",
              "    <tr>\n",
              "      <th>29996</th>\n",
              "      <td>41.0</td>\n",
              "      <td>Male</td>\n",
              "      <td>Asthma</td>\n",
              "      <td>89.24</td>\n",
              "      <td>154.37</td>\n",
              "      <td>24.93</td>\n",
              "      <td>96.07</td>\n",
              "      <td>4</td>\n",
              "      <td>198.30</td>\n",
              "      <td>176.81</td>\n",
              "      <td>5.36</td>\n",
              "      <td>1</td>\n",
              "      <td>0</td>\n",
              "      <td>3.34</td>\n",
              "      <td>3.40</td>\n",
              "      <td>0</td>\n",
              "      <td>6.72</td>\n",
              "      <td>2.81</td>\n",
              "      <td>lorem</td>\n",
              "      <td>-5.864517</td>\n",
              "    </tr>\n",
              "    <tr>\n",
              "      <th>29997</th>\n",
              "      <td>83.0</td>\n",
              "      <td>Female</td>\n",
              "      <td>NaN</td>\n",
              "      <td>NaN</td>\n",
              "      <td>170.11</td>\n",
              "      <td>30.55</td>\n",
              "      <td>97.83</td>\n",
              "      <td>3</td>\n",
              "      <td>210.13</td>\n",
              "      <td>168.76</td>\n",
              "      <td>5.05</td>\n",
              "      <td>0</td>\n",
              "      <td>0</td>\n",
              "      <td>4.53</td>\n",
              "      <td>4.50</td>\n",
              "      <td>0</td>\n",
              "      <td>4.31</td>\n",
              "      <td>3.61</td>\n",
              "      <td>###</td>\n",
              "      <td>-30.934595</td>\n",
              "    </tr>\n",
              "    <tr>\n",
              "      <th>29998</th>\n",
              "      <td>41.0</td>\n",
              "      <td>Male</td>\n",
              "      <td>Diabetes</td>\n",
              "      <td>242.87</td>\n",
              "      <td>152.97</td>\n",
              "      <td>23.57</td>\n",
              "      <td>99.17</td>\n",
              "      <td>3</td>\n",
              "      <td>208.86</td>\n",
              "      <td>224.21</td>\n",
              "      <td>7.59</td>\n",
              "      <td>0</td>\n",
              "      <td>0</td>\n",
              "      <td>3.16</td>\n",
              "      <td>2.59</td>\n",
              "      <td>0</td>\n",
              "      <td>7.10</td>\n",
              "      <td>5.80</td>\n",
              "      <td>ipsum</td>\n",
              "      <td>5.085258</td>\n",
              "    </tr>\n",
              "    <tr>\n",
              "      <th>29999</th>\n",
              "      <td>46.0</td>\n",
              "      <td>Female</td>\n",
              "      <td>Hypertension</td>\n",
              "      <td>86.52</td>\n",
              "      <td>159.26</td>\n",
              "      <td>34.55</td>\n",
              "      <td>96.60</td>\n",
              "      <td>4</td>\n",
              "      <td>217.37</td>\n",
              "      <td>141.28</td>\n",
              "      <td>5.77</td>\n",
              "      <td>1</td>\n",
              "      <td>0</td>\n",
              "      <td>4.91</td>\n",
              "      <td>5.82</td>\n",
              "      <td>1</td>\n",
              "      <td>3.64</td>\n",
              "      <td>5.47</td>\n",
              "      <td>lorem</td>\n",
              "      <td>-142.559559</td>\n",
              "    </tr>\n",
              "  </tbody>\n",
              "</table>\n",
              "</div>\n",
              "    <div class=\"colab-df-buttons\">\n",
              "\n",
              "  <div class=\"colab-df-container\">\n",
              "    <button class=\"colab-df-convert\" onclick=\"convertToInteractive('df-7fc05bbd-bcf6-407b-90a1-8694375b8465')\"\n",
              "            title=\"Convert this dataframe to an interactive table.\"\n",
              "            style=\"display:none;\">\n",
              "\n",
              "  <svg xmlns=\"http://www.w3.org/2000/svg\" height=\"24px\" viewBox=\"0 -960 960 960\">\n",
              "    <path d=\"M120-120v-720h720v720H120Zm60-500h600v-160H180v160Zm220 220h160v-160H400v160Zm0 220h160v-160H400v160ZM180-400h160v-160H180v160Zm440 0h160v-160H620v160ZM180-180h160v-160H180v160Zm440 0h160v-160H620v160Z\"/>\n",
              "  </svg>\n",
              "    </button>\n",
              "\n",
              "  <style>\n",
              "    .colab-df-container {\n",
              "      display:flex;\n",
              "      gap: 12px;\n",
              "    }\n",
              "\n",
              "    .colab-df-convert {\n",
              "      background-color: #E8F0FE;\n",
              "      border: none;\n",
              "      border-radius: 50%;\n",
              "      cursor: pointer;\n",
              "      display: none;\n",
              "      fill: #1967D2;\n",
              "      height: 32px;\n",
              "      padding: 0 0 0 0;\n",
              "      width: 32px;\n",
              "    }\n",
              "\n",
              "    .colab-df-convert:hover {\n",
              "      background-color: #E2EBFA;\n",
              "      box-shadow: 0px 1px 2px rgba(60, 64, 67, 0.3), 0px 1px 3px 1px rgba(60, 64, 67, 0.15);\n",
              "      fill: #174EA6;\n",
              "    }\n",
              "\n",
              "    .colab-df-buttons div {\n",
              "      margin-bottom: 4px;\n",
              "    }\n",
              "\n",
              "    [theme=dark] .colab-df-convert {\n",
              "      background-color: #3B4455;\n",
              "      fill: #D2E3FC;\n",
              "    }\n",
              "\n",
              "    [theme=dark] .colab-df-convert:hover {\n",
              "      background-color: #434B5C;\n",
              "      box-shadow: 0px 1px 3px 1px rgba(0, 0, 0, 0.15);\n",
              "      filter: drop-shadow(0px 1px 2px rgba(0, 0, 0, 0.3));\n",
              "      fill: #FFFFFF;\n",
              "    }\n",
              "  </style>\n",
              "\n",
              "    <script>\n",
              "      const buttonEl =\n",
              "        document.querySelector('#df-7fc05bbd-bcf6-407b-90a1-8694375b8465 button.colab-df-convert');\n",
              "      buttonEl.style.display =\n",
              "        google.colab.kernel.accessAllowed ? 'block' : 'none';\n",
              "\n",
              "      async function convertToInteractive(key) {\n",
              "        const element = document.querySelector('#df-7fc05bbd-bcf6-407b-90a1-8694375b8465');\n",
              "        const dataTable =\n",
              "          await google.colab.kernel.invokeFunction('convertToInteractive',\n",
              "                                                    [key], {});\n",
              "        if (!dataTable) return;\n",
              "\n",
              "        const docLinkHtml = 'Like what you see? Visit the ' +\n",
              "          '<a target=\"_blank\" href=https://colab.research.google.com/notebooks/data_table.ipynb>data table notebook</a>'\n",
              "          + ' to learn more about interactive tables.';\n",
              "        element.innerHTML = '';\n",
              "        dataTable['output_type'] = 'display_data';\n",
              "        await google.colab.output.renderOutput(dataTable, element);\n",
              "        const docLink = document.createElement('div');\n",
              "        docLink.innerHTML = docLinkHtml;\n",
              "        element.appendChild(docLink);\n",
              "      }\n",
              "    </script>\n",
              "  </div>\n",
              "\n",
              "\n",
              "    <div id=\"df-2d7a3861-cf38-4604-94da-5cb775ecb2e4\">\n",
              "      <button class=\"colab-df-quickchart\" onclick=\"quickchart('df-2d7a3861-cf38-4604-94da-5cb775ecb2e4')\"\n",
              "                title=\"Suggest charts\"\n",
              "                style=\"display:none;\">\n",
              "\n",
              "<svg xmlns=\"http://www.w3.org/2000/svg\" height=\"24px\"viewBox=\"0 0 24 24\"\n",
              "     width=\"24px\">\n",
              "    <g>\n",
              "        <path d=\"M19 3H5c-1.1 0-2 .9-2 2v14c0 1.1.9 2 2 2h14c1.1 0 2-.9 2-2V5c0-1.1-.9-2-2-2zM9 17H7v-7h2v7zm4 0h-2V7h2v10zm4 0h-2v-4h2v4z\"/>\n",
              "    </g>\n",
              "</svg>\n",
              "      </button>\n",
              "\n",
              "<style>\n",
              "  .colab-df-quickchart {\n",
              "      --bg-color: #E8F0FE;\n",
              "      --fill-color: #1967D2;\n",
              "      --hover-bg-color: #E2EBFA;\n",
              "      --hover-fill-color: #174EA6;\n",
              "      --disabled-fill-color: #AAA;\n",
              "      --disabled-bg-color: #DDD;\n",
              "  }\n",
              "\n",
              "  [theme=dark] .colab-df-quickchart {\n",
              "      --bg-color: #3B4455;\n",
              "      --fill-color: #D2E3FC;\n",
              "      --hover-bg-color: #434B5C;\n",
              "      --hover-fill-color: #FFFFFF;\n",
              "      --disabled-bg-color: #3B4455;\n",
              "      --disabled-fill-color: #666;\n",
              "  }\n",
              "\n",
              "  .colab-df-quickchart {\n",
              "    background-color: var(--bg-color);\n",
              "    border: none;\n",
              "    border-radius: 50%;\n",
              "    cursor: pointer;\n",
              "    display: none;\n",
              "    fill: var(--fill-color);\n",
              "    height: 32px;\n",
              "    padding: 0;\n",
              "    width: 32px;\n",
              "  }\n",
              "\n",
              "  .colab-df-quickchart:hover {\n",
              "    background-color: var(--hover-bg-color);\n",
              "    box-shadow: 0 1px 2px rgba(60, 64, 67, 0.3), 0 1px 3px 1px rgba(60, 64, 67, 0.15);\n",
              "    fill: var(--button-hover-fill-color);\n",
              "  }\n",
              "\n",
              "  .colab-df-quickchart-complete:disabled,\n",
              "  .colab-df-quickchart-complete:disabled:hover {\n",
              "    background-color: var(--disabled-bg-color);\n",
              "    fill: var(--disabled-fill-color);\n",
              "    box-shadow: none;\n",
              "  }\n",
              "\n",
              "  .colab-df-spinner {\n",
              "    border: 2px solid var(--fill-color);\n",
              "    border-color: transparent;\n",
              "    border-bottom-color: var(--fill-color);\n",
              "    animation:\n",
              "      spin 1s steps(1) infinite;\n",
              "  }\n",
              "\n",
              "  @keyframes spin {\n",
              "    0% {\n",
              "      border-color: transparent;\n",
              "      border-bottom-color: var(--fill-color);\n",
              "      border-left-color: var(--fill-color);\n",
              "    }\n",
              "    20% {\n",
              "      border-color: transparent;\n",
              "      border-left-color: var(--fill-color);\n",
              "      border-top-color: var(--fill-color);\n",
              "    }\n",
              "    30% {\n",
              "      border-color: transparent;\n",
              "      border-left-color: var(--fill-color);\n",
              "      border-top-color: var(--fill-color);\n",
              "      border-right-color: var(--fill-color);\n",
              "    }\n",
              "    40% {\n",
              "      border-color: transparent;\n",
              "      border-right-color: var(--fill-color);\n",
              "      border-top-color: var(--fill-color);\n",
              "    }\n",
              "    60% {\n",
              "      border-color: transparent;\n",
              "      border-right-color: var(--fill-color);\n",
              "    }\n",
              "    80% {\n",
              "      border-color: transparent;\n",
              "      border-right-color: var(--fill-color);\n",
              "      border-bottom-color: var(--fill-color);\n",
              "    }\n",
              "    90% {\n",
              "      border-color: transparent;\n",
              "      border-bottom-color: var(--fill-color);\n",
              "    }\n",
              "  }\n",
              "</style>\n",
              "\n",
              "      <script>\n",
              "        async function quickchart(key) {\n",
              "          const quickchartButtonEl =\n",
              "            document.querySelector('#' + key + ' button');\n",
              "          quickchartButtonEl.disabled = true;  // To prevent multiple clicks.\n",
              "          quickchartButtonEl.classList.add('colab-df-spinner');\n",
              "          try {\n",
              "            const charts = await google.colab.kernel.invokeFunction(\n",
              "                'suggestCharts', [key], {});\n",
              "          } catch (error) {\n",
              "            console.error('Error during call to suggestCharts:', error);\n",
              "          }\n",
              "          quickchartButtonEl.classList.remove('colab-df-spinner');\n",
              "          quickchartButtonEl.classList.add('colab-df-quickchart-complete');\n",
              "        }\n",
              "        (() => {\n",
              "          let quickchartButtonEl =\n",
              "            document.querySelector('#df-2d7a3861-cf38-4604-94da-5cb775ecb2e4 button');\n",
              "          quickchartButtonEl.style.display =\n",
              "            google.colab.kernel.accessAllowed ? 'block' : 'none';\n",
              "        })();\n",
              "      </script>\n",
              "    </div>\n",
              "\n",
              "    </div>\n",
              "  </div>\n"
            ],
            "application/vnd.google.colaboratory.intrinsic+json": {
              "type": "dataframe",
              "summary": "{\n  \"name\": \"df\",\n  \"rows\": 5,\n  \"fields\": [\n    {\n      \"column\": \"Age\",\n      \"properties\": {\n        \"dtype\": \"number\",\n        \"std\": 17.592612085759182,\n        \"min\": 41.0,\n        \"max\": 83.0,\n        \"num_unique_values\": 4,\n        \"samples\": [\n          41.0,\n          46.0,\n          54.0\n        ],\n        \"semantic_type\": \"\",\n        \"description\": \"\"\n      }\n    },\n    {\n      \"column\": \"Gender\",\n      \"properties\": {\n        \"dtype\": \"category\",\n        \"num_unique_values\": 2,\n        \"samples\": [\n          \"Male\",\n          \"Female\"\n        ],\n        \"semantic_type\": \"\",\n        \"description\": \"\"\n      }\n    },\n    {\n      \"column\": \"Medical Condition\",\n      \"properties\": {\n        \"dtype\": \"string\",\n        \"num_unique_values\": 4,\n        \"samples\": [\n          \"Asthma\",\n          \"Hypertension\"\n        ],\n        \"semantic_type\": \"\",\n        \"description\": \"\"\n      }\n    },\n    {\n      \"column\": \"Glucose\",\n      \"properties\": {\n        \"dtype\": \"number\",\n        \"std\": 77.7612742093818,\n        \"min\": 86.35,\n        \"max\": 242.87,\n        \"num_unique_values\": 4,\n        \"samples\": [\n          89.24,\n          86.52\n        ],\n        \"semantic_type\": \"\",\n        \"description\": \"\"\n      }\n    },\n    {\n      \"column\": \"Blood Pressure\",\n      \"properties\": {\n        \"dtype\": \"number\",\n        \"std\": 15.611257796859292,\n        \"min\": 127.68,\n        \"max\": 170.11,\n        \"num_unique_values\": 5,\n        \"samples\": [\n          154.37,\n          159.26\n        ],\n        \"semantic_type\": \"\",\n        \"description\": \"\"\n      }\n    },\n    {\n      \"column\": \"BMI\",\n      \"properties\": {\n        \"dtype\": \"number\",\n        \"std\": 4.410861593838555,\n        \"min\": 23.57,\n        \"max\": 34.55,\n        \"num_unique_values\": 5,\n        \"samples\": [\n          24.93,\n          34.55\n        ],\n        \"semantic_type\": \"\",\n        \"description\": \"\"\n      }\n    },\n    {\n      \"column\": \"Oxygen Saturation\",\n      \"properties\": {\n        \"dtype\": \"number\",\n        \"std\": 1.81687368851002,\n        \"min\": 94.36,\n        \"max\": 99.17,\n        \"num_unique_values\": 5,\n        \"samples\": [\n          96.07,\n          96.6\n        ],\n        \"semantic_type\": \"\",\n        \"description\": \"\"\n      }\n    },\n    {\n      \"column\": \"LengthOfStay\",\n      \"properties\": {\n        \"dtype\": \"number\",\n        \"std\": 1,\n        \"min\": 1,\n        \"max\": 4,\n        \"num_unique_values\": 3,\n        \"samples\": [\n          1,\n          4\n        ],\n        \"semantic_type\": \"\",\n        \"description\": \"\"\n      }\n    },\n    {\n      \"column\": \"Cholesterol\",\n      \"properties\": {\n        \"dtype\": \"number\",\n        \"std\": 8.12954303758827,\n        \"min\": 198.3,\n        \"max\": 218.6,\n        \"num_unique_values\": 5,\n        \"samples\": [\n          198.3,\n          217.37\n        ],\n        \"semantic_type\": \"\",\n        \"description\": \"\"\n      }\n    },\n    {\n      \"column\": \"Triglycerides\",\n      \"properties\": {\n        \"dtype\": \"number\",\n        \"std\": 31.89082046608397,\n        \"min\": 141.28,\n        \"max\": 224.21,\n        \"num_unique_values\": 5,\n        \"samples\": [\n          176.81,\n          141.28\n        ],\n        \"semantic_type\": \"\",\n        \"description\": \"\"\n      }\n    },\n    {\n      \"column\": \"HbA1c\",\n      \"properties\": {\n        \"dtype\": \"number\",\n        \"std\": 1.0993998362743191,\n        \"min\": 4.85,\n        \"max\": 7.59,\n        \"num_unique_values\": 5,\n        \"samples\": [\n          5.36,\n          5.77\n        ],\n        \"semantic_type\": \"\",\n        \"description\": \"\"\n      }\n    },\n    {\n      \"column\": \"Smoking\",\n      \"properties\": {\n        \"dtype\": \"number\",\n        \"std\": 0,\n        \"min\": 0,\n        \"max\": 1,\n        \"num_unique_values\": 2,\n        \"samples\": [\n          1,\n          0\n        ],\n        \"semantic_type\": \"\",\n        \"description\": \"\"\n      }\n    },\n    {\n      \"column\": \"Alcohol\",\n      \"properties\": {\n        \"dtype\": \"number\",\n        \"std\": 0,\n        \"min\": 0,\n        \"max\": 0,\n        \"num_unique_values\": 1,\n        \"samples\": [\n          0\n        ],\n        \"semantic_type\": \"\",\n        \"description\": \"\"\n      }\n    },\n    {\n      \"column\": \"Physical Activity\",\n      \"properties\": {\n        \"dtype\": \"number\",\n        \"std\": 2.428532478679254,\n        \"min\": 3.16,\n        \"max\": 9.15,\n        \"num_unique_values\": 5,\n        \"samples\": [\n          3.34\n        ],\n        \"semantic_type\": \"\",\n        \"description\": \"\"\n      }\n    },\n    {\n      \"column\": \"Diet Score\",\n      \"properties\": {\n        \"dtype\": \"number\",\n        \"std\": 3.0562182513688385,\n        \"min\": 2.59,\n        \"max\": 10.35,\n        \"num_unique_values\": 5,\n        \"samples\": [\n          3.4\n        ],\n        \"semantic_type\": \"\",\n        \"description\": \"\"\n      }\n    },\n    {\n      \"column\": \"Family History\",\n      \"properties\": {\n        \"dtype\": \"number\",\n        \"std\": 0,\n        \"min\": 0,\n        \"max\": 1,\n        \"num_unique_values\": 2,\n        \"samples\": [\n          1\n        ],\n        \"semantic_type\": \"\",\n        \"description\": \"\"\n      }\n    },\n    {\n      \"column\": \"Stress Level\",\n      \"properties\": {\n        \"dtype\": \"number\",\n        \"std\": 1.6942048282306363,\n        \"min\": 3.64,\n        \"max\": 7.1,\n        \"num_unique_values\": 5,\n        \"samples\": [\n          6.72\n        ],\n        \"semantic_type\": \"\",\n        \"description\": \"\"\n      }\n    },\n    {\n      \"column\": \"Sleep Hours\",\n      \"properties\": {\n        \"dtype\": \"number\",\n        \"std\": 2.289170155318298,\n        \"min\": 2.81,\n        \"max\": 8.71,\n        \"num_unique_values\": 5,\n        \"samples\": [\n          2.81\n        ],\n        \"semantic_type\": \"\",\n        \"description\": \"\"\n      }\n    },\n    {\n      \"column\": \"random_notes\",\n      \"properties\": {\n        \"dtype\": \"string\",\n        \"num_unique_values\": 3,\n        \"samples\": [\n          \"ipsum\"\n        ],\n        \"semantic_type\": \"\",\n        \"description\": \"\"\n      }\n    },\n    {\n      \"column\": \"noise_col\",\n      \"properties\": {\n        \"dtype\": \"number\",\n        \"std\": 83.56000535132904,\n        \"min\": -142.55955855363632,\n        \"max\": 89.57383716363807,\n        \"num_unique_values\": 5,\n        \"samples\": [\n          -5.86451695387743\n        ],\n        \"semantic_type\": \"\",\n        \"description\": \"\"\n      }\n    }\n  ]\n}"
            }
          },
          "metadata": {},
          "execution_count": 160
        }
      ]
    },
    {
      "cell_type": "markdown",
      "source": [
        "**Showing the shape of the dataset**"
      ],
      "metadata": {
        "id": "I_o6ntEAKRk2"
      }
    },
    {
      "cell_type": "code",
      "source": [
        "print(\"Shape of the dataset (rows, columns):\" , df.shape)"
      ],
      "metadata": {
        "colab": {
          "base_uri": "https://localhost:8080/"
        },
        "id": "yyniLM0pKXl0",
        "outputId": "baaf98fa-e41e-488f-f62e-a6f252df4ccf"
      },
      "execution_count": 161,
      "outputs": [
        {
          "output_type": "stream",
          "name": "stdout",
          "text": [
            "Shape of the dataset (rows, columns): (30000, 20)\n"
          ]
        }
      ]
    },
    {
      "cell_type": "markdown",
      "source": [
        "**Showing Columns and their data types**"
      ],
      "metadata": {
        "id": "2UuW7WlGKg0A"
      }
    },
    {
      "cell_type": "code",
      "source": [
        "df.info()\n"
      ],
      "metadata": {
        "colab": {
          "base_uri": "https://localhost:8080/"
        },
        "id": "8qvUApqiKn7k",
        "outputId": "8ae0e7c4-1fe4-41bd-c7d2-503ef5de0db9"
      },
      "execution_count": 162,
      "outputs": [
        {
          "output_type": "stream",
          "name": "stdout",
          "text": [
            "<class 'pandas.core.frame.DataFrame'>\n",
            "RangeIndex: 30000 entries, 0 to 29999\n",
            "Data columns (total 20 columns):\n",
            " #   Column             Non-Null Count  Dtype  \n",
            "---  ------             --------------  -----  \n",
            " 0   Age                25500 non-null  float64\n",
            " 1   Gender             25500 non-null  object \n",
            " 2   Medical Condition  25500 non-null  object \n",
            " 3   Glucose            25500 non-null  float64\n",
            " 4   Blood Pressure     25500 non-null  float64\n",
            " 5   BMI                30000 non-null  float64\n",
            " 6   Oxygen Saturation  30000 non-null  float64\n",
            " 7   LengthOfStay       30000 non-null  int64  \n",
            " 8   Cholesterol        30000 non-null  float64\n",
            " 9   Triglycerides      30000 non-null  float64\n",
            " 10  HbA1c              30000 non-null  float64\n",
            " 11  Smoking            30000 non-null  int64  \n",
            " 12  Alcohol            30000 non-null  int64  \n",
            " 13  Physical Activity  30000 non-null  float64\n",
            " 14  Diet Score         30000 non-null  float64\n",
            " 15  Family History     30000 non-null  int64  \n",
            " 16  Stress Level       30000 non-null  float64\n",
            " 17  Sleep Hours        30000 non-null  float64\n",
            " 18  random_notes       30000 non-null  object \n",
            " 19  noise_col          30000 non-null  float64\n",
            "dtypes: float64(13), int64(4), object(3)\n",
            "memory usage: 4.6+ MB\n"
          ]
        }
      ]
    },
    {
      "cell_type": "markdown",
      "source": [
        "**Handling Missing Values**"
      ],
      "metadata": {
        "id": "Yzs-SkobLI2m"
      }
    },
    {
      "cell_type": "code",
      "source": [
        "#Checking Missing values\n",
        "df.isnull().sum()"
      ],
      "metadata": {
        "colab": {
          "base_uri": "https://localhost:8080/",
          "height": 711
        },
        "id": "x5NfwB8BLLSJ",
        "outputId": "9b4abb6f-5a2c-434c-df45-657027506a16"
      },
      "execution_count": 163,
      "outputs": [
        {
          "output_type": "execute_result",
          "data": {
            "text/plain": [
              "Age                  4500\n",
              "Gender               4500\n",
              "Medical Condition    4500\n",
              "Glucose              4500\n",
              "Blood Pressure       4500\n",
              "BMI                     0\n",
              "Oxygen Saturation       0\n",
              "LengthOfStay            0\n",
              "Cholesterol             0\n",
              "Triglycerides           0\n",
              "HbA1c                   0\n",
              "Smoking                 0\n",
              "Alcohol                 0\n",
              "Physical Activity       0\n",
              "Diet Score              0\n",
              "Family History          0\n",
              "Stress Level            0\n",
              "Sleep Hours             0\n",
              "random_notes            0\n",
              "noise_col               0\n",
              "dtype: int64"
            ],
            "text/html": [
              "<div>\n",
              "<style scoped>\n",
              "    .dataframe tbody tr th:only-of-type {\n",
              "        vertical-align: middle;\n",
              "    }\n",
              "\n",
              "    .dataframe tbody tr th {\n",
              "        vertical-align: top;\n",
              "    }\n",
              "\n",
              "    .dataframe thead th {\n",
              "        text-align: right;\n",
              "    }\n",
              "</style>\n",
              "<table border=\"1\" class=\"dataframe\">\n",
              "  <thead>\n",
              "    <tr style=\"text-align: right;\">\n",
              "      <th></th>\n",
              "      <th>0</th>\n",
              "    </tr>\n",
              "  </thead>\n",
              "  <tbody>\n",
              "    <tr>\n",
              "      <th>Age</th>\n",
              "      <td>4500</td>\n",
              "    </tr>\n",
              "    <tr>\n",
              "      <th>Gender</th>\n",
              "      <td>4500</td>\n",
              "    </tr>\n",
              "    <tr>\n",
              "      <th>Medical Condition</th>\n",
              "      <td>4500</td>\n",
              "    </tr>\n",
              "    <tr>\n",
              "      <th>Glucose</th>\n",
              "      <td>4500</td>\n",
              "    </tr>\n",
              "    <tr>\n",
              "      <th>Blood Pressure</th>\n",
              "      <td>4500</td>\n",
              "    </tr>\n",
              "    <tr>\n",
              "      <th>BMI</th>\n",
              "      <td>0</td>\n",
              "    </tr>\n",
              "    <tr>\n",
              "      <th>Oxygen Saturation</th>\n",
              "      <td>0</td>\n",
              "    </tr>\n",
              "    <tr>\n",
              "      <th>LengthOfStay</th>\n",
              "      <td>0</td>\n",
              "    </tr>\n",
              "    <tr>\n",
              "      <th>Cholesterol</th>\n",
              "      <td>0</td>\n",
              "    </tr>\n",
              "    <tr>\n",
              "      <th>Triglycerides</th>\n",
              "      <td>0</td>\n",
              "    </tr>\n",
              "    <tr>\n",
              "      <th>HbA1c</th>\n",
              "      <td>0</td>\n",
              "    </tr>\n",
              "    <tr>\n",
              "      <th>Smoking</th>\n",
              "      <td>0</td>\n",
              "    </tr>\n",
              "    <tr>\n",
              "      <th>Alcohol</th>\n",
              "      <td>0</td>\n",
              "    </tr>\n",
              "    <tr>\n",
              "      <th>Physical Activity</th>\n",
              "      <td>0</td>\n",
              "    </tr>\n",
              "    <tr>\n",
              "      <th>Diet Score</th>\n",
              "      <td>0</td>\n",
              "    </tr>\n",
              "    <tr>\n",
              "      <th>Family History</th>\n",
              "      <td>0</td>\n",
              "    </tr>\n",
              "    <tr>\n",
              "      <th>Stress Level</th>\n",
              "      <td>0</td>\n",
              "    </tr>\n",
              "    <tr>\n",
              "      <th>Sleep Hours</th>\n",
              "      <td>0</td>\n",
              "    </tr>\n",
              "    <tr>\n",
              "      <th>random_notes</th>\n",
              "      <td>0</td>\n",
              "    </tr>\n",
              "    <tr>\n",
              "      <th>noise_col</th>\n",
              "      <td>0</td>\n",
              "    </tr>\n",
              "  </tbody>\n",
              "</table>\n",
              "</div><br><label><b>dtype:</b> int64</label>"
            ]
          },
          "metadata": {},
          "execution_count": 163
        }
      ]
    },
    {
      "cell_type": "markdown",
      "source": [
        "**Comments** : Missing values found for some columns like Age, Gender, Medical Condition, Glucose and Blood Pressure"
      ],
      "metadata": {
        "id": "SDfGxboplg_z"
      }
    },
    {
      "cell_type": "markdown",
      "source": [
        "**Fill Missing Values**:\n",
        "*   Use median() for numerical columns\n",
        "*   Use mode() for categorical columns\n"
      ],
      "metadata": {
        "id": "p8yQnyyAUg9R"
      }
    },
    {
      "cell_type": "code",
      "source": [
        "# Fill missing values with median for numeric columns and mode for categorical\n",
        "for col in df.columns:\n",
        "    if df[col].dtype == 'object':  # Categorical column\n",
        "        df[col] = df[col].fillna(df[col].mode()[0])\n",
        "    else:  # Numeric column\n",
        "        df[col] = df[col].fillna(df[col].median())\n",
        "\n",
        "# Confirm that missing values are now gone\n",
        "df.isnull().sum()"
      ],
      "metadata": {
        "colab": {
          "base_uri": "https://localhost:8080/",
          "height": 711
        },
        "id": "CIMpbI4LU-9x",
        "outputId": "c7bb389b-b64d-4c68-ea42-d03221301fe3"
      },
      "execution_count": 167,
      "outputs": [
        {
          "output_type": "execute_result",
          "data": {
            "text/plain": [
              "Age                  0\n",
              "Gender               0\n",
              "Medical Condition    0\n",
              "Glucose              0\n",
              "Blood Pressure       0\n",
              "BMI                  0\n",
              "Oxygen Saturation    0\n",
              "LengthOfStay         0\n",
              "Cholesterol          0\n",
              "Triglycerides        0\n",
              "HbA1c                0\n",
              "Smoking              0\n",
              "Alcohol              0\n",
              "Physical Activity    0\n",
              "Diet Score           0\n",
              "Family History       0\n",
              "Stress Level         0\n",
              "Sleep Hours          0\n",
              "random_notes         0\n",
              "noise_col            0\n",
              "dtype: int64"
            ],
            "text/html": [
              "<div>\n",
              "<style scoped>\n",
              "    .dataframe tbody tr th:only-of-type {\n",
              "        vertical-align: middle;\n",
              "    }\n",
              "\n",
              "    .dataframe tbody tr th {\n",
              "        vertical-align: top;\n",
              "    }\n",
              "\n",
              "    .dataframe thead th {\n",
              "        text-align: right;\n",
              "    }\n",
              "</style>\n",
              "<table border=\"1\" class=\"dataframe\">\n",
              "  <thead>\n",
              "    <tr style=\"text-align: right;\">\n",
              "      <th></th>\n",
              "      <th>0</th>\n",
              "    </tr>\n",
              "  </thead>\n",
              "  <tbody>\n",
              "    <tr>\n",
              "      <th>Age</th>\n",
              "      <td>0</td>\n",
              "    </tr>\n",
              "    <tr>\n",
              "      <th>Gender</th>\n",
              "      <td>0</td>\n",
              "    </tr>\n",
              "    <tr>\n",
              "      <th>Medical Condition</th>\n",
              "      <td>0</td>\n",
              "    </tr>\n",
              "    <tr>\n",
              "      <th>Glucose</th>\n",
              "      <td>0</td>\n",
              "    </tr>\n",
              "    <tr>\n",
              "      <th>Blood Pressure</th>\n",
              "      <td>0</td>\n",
              "    </tr>\n",
              "    <tr>\n",
              "      <th>BMI</th>\n",
              "      <td>0</td>\n",
              "    </tr>\n",
              "    <tr>\n",
              "      <th>Oxygen Saturation</th>\n",
              "      <td>0</td>\n",
              "    </tr>\n",
              "    <tr>\n",
              "      <th>LengthOfStay</th>\n",
              "      <td>0</td>\n",
              "    </tr>\n",
              "    <tr>\n",
              "      <th>Cholesterol</th>\n",
              "      <td>0</td>\n",
              "    </tr>\n",
              "    <tr>\n",
              "      <th>Triglycerides</th>\n",
              "      <td>0</td>\n",
              "    </tr>\n",
              "    <tr>\n",
              "      <th>HbA1c</th>\n",
              "      <td>0</td>\n",
              "    </tr>\n",
              "    <tr>\n",
              "      <th>Smoking</th>\n",
              "      <td>0</td>\n",
              "    </tr>\n",
              "    <tr>\n",
              "      <th>Alcohol</th>\n",
              "      <td>0</td>\n",
              "    </tr>\n",
              "    <tr>\n",
              "      <th>Physical Activity</th>\n",
              "      <td>0</td>\n",
              "    </tr>\n",
              "    <tr>\n",
              "      <th>Diet Score</th>\n",
              "      <td>0</td>\n",
              "    </tr>\n",
              "    <tr>\n",
              "      <th>Family History</th>\n",
              "      <td>0</td>\n",
              "    </tr>\n",
              "    <tr>\n",
              "      <th>Stress Level</th>\n",
              "      <td>0</td>\n",
              "    </tr>\n",
              "    <tr>\n",
              "      <th>Sleep Hours</th>\n",
              "      <td>0</td>\n",
              "    </tr>\n",
              "    <tr>\n",
              "      <th>random_notes</th>\n",
              "      <td>0</td>\n",
              "    </tr>\n",
              "    <tr>\n",
              "      <th>noise_col</th>\n",
              "      <td>0</td>\n",
              "    </tr>\n",
              "  </tbody>\n",
              "</table>\n",
              "</div><br><label><b>dtype:</b> int64</label>"
            ]
          },
          "metadata": {},
          "execution_count": 167
        }
      ]
    },
    {
      "cell_type": "markdown",
      "source": [
        "**Generate basic statistics **"
      ],
      "metadata": {
        "id": "35iYnUr0V4S3"
      }
    },
    {
      "cell_type": "code",
      "source": [
        "#Numeric columns Stats summary\n",
        "df.describe(exclude = 'object')"
      ],
      "metadata": {
        "colab": {
          "base_uri": "https://localhost:8080/",
          "height": 338
        },
        "id": "Bh-xD2bgV9mR",
        "outputId": "b9a82dc2-014a-4db2-e2a3-1dd0a7fec8ad"
      },
      "execution_count": 170,
      "outputs": [
        {
          "output_type": "execute_result",
          "data": {
            "text/plain": [
              "                Age       Glucose  Blood Pressure           BMI  \\\n",
              "count  30000.000000  30000.000000    30000.000000  30000.000000   \n",
              "mean      54.674267    121.653852      140.135036     28.476155   \n",
              "std       14.727541     38.617255       19.447790      5.728804   \n",
              "min       10.000000     20.320000       74.240000      7.670000   \n",
              "25%       47.000000     98.860000      127.730000     24.590000   \n",
              "50%       55.000000    110.500000      138.320000     28.050000   \n",
              "75%       64.000000    128.870000      150.630000     31.810000   \n",
              "max       89.000000    318.510000      226.380000     56.850000   \n",
              "\n",
              "       Oxygen Saturation  LengthOfStay   Cholesterol  Triglycerides  \\\n",
              "count       30000.000000  30000.000000  30000.000000   30000.000000   \n",
              "mean           94.954992      4.414133    213.033891     176.837375   \n",
              "std             3.736202      2.761536     33.519757      48.812827   \n",
              "min            67.510000      1.000000     95.730000     -22.480000   \n",
              "25%            93.000000      3.000000    189.500000     141.280000   \n",
              "50%            95.300000      4.000000    211.835000     173.365000   \n",
              "75%            97.380000      5.000000    235.310000     208.630000   \n",
              "max           110.070000     19.000000    358.370000     421.510000   \n",
              "\n",
              "              HbA1c       Smoking       Alcohol  Physical Activity  \\\n",
              "count  30000.000000  30000.000000  30000.000000       30000.000000   \n",
              "mean       6.294377      0.279767      0.238533           3.803214   \n",
              "std        1.320269      0.448892      0.426194           2.011729   \n",
              "min        3.280000      0.000000      0.000000          -3.680000   \n",
              "25%        5.330000      0.000000      0.000000           2.350000   \n",
              "50%        5.970000      0.000000      0.000000           3.590000   \n",
              "75%        6.920000      1.000000      0.000000           5.060000   \n",
              "max       12.360000      1.000000      1.000000          12.410000   \n",
              "\n",
              "         Diet Score  Family History  Stress Level   Sleep Hours     noise_col  \n",
              "count  30000.000000    30000.000000  30000.000000  30000.000000  30000.000000  \n",
              "mean       4.029654        0.439433      5.917312      6.229836     -0.517010  \n",
              "std        1.817165        0.496326      2.225057      1.187669    100.076959  \n",
              "min       -1.750000        0.000000     -2.440000      1.590000   -412.169596  \n",
              "25%        2.770000        0.000000      4.370000      5.410000    -68.270749  \n",
              "50%        3.790000        0.000000      5.900000      6.230000     -0.510742  \n",
              "75%        5.020000        1.000000      7.440000      7.050000     66.811399  \n",
              "max       12.060000        1.000000     15.450000     10.350000    467.894910  "
            ],
            "text/html": [
              "\n",
              "  <div id=\"df-a1bd2e68-90a6-4665-a654-cf2bc41c5c5a\" class=\"colab-df-container\">\n",
              "    <div>\n",
              "<style scoped>\n",
              "    .dataframe tbody tr th:only-of-type {\n",
              "        vertical-align: middle;\n",
              "    }\n",
              "\n",
              "    .dataframe tbody tr th {\n",
              "        vertical-align: top;\n",
              "    }\n",
              "\n",
              "    .dataframe thead th {\n",
              "        text-align: right;\n",
              "    }\n",
              "</style>\n",
              "<table border=\"1\" class=\"dataframe\">\n",
              "  <thead>\n",
              "    <tr style=\"text-align: right;\">\n",
              "      <th></th>\n",
              "      <th>Age</th>\n",
              "      <th>Glucose</th>\n",
              "      <th>Blood Pressure</th>\n",
              "      <th>BMI</th>\n",
              "      <th>Oxygen Saturation</th>\n",
              "      <th>LengthOfStay</th>\n",
              "      <th>Cholesterol</th>\n",
              "      <th>Triglycerides</th>\n",
              "      <th>HbA1c</th>\n",
              "      <th>Smoking</th>\n",
              "      <th>Alcohol</th>\n",
              "      <th>Physical Activity</th>\n",
              "      <th>Diet Score</th>\n",
              "      <th>Family History</th>\n",
              "      <th>Stress Level</th>\n",
              "      <th>Sleep Hours</th>\n",
              "      <th>noise_col</th>\n",
              "    </tr>\n",
              "  </thead>\n",
              "  <tbody>\n",
              "    <tr>\n",
              "      <th>count</th>\n",
              "      <td>30000.000000</td>\n",
              "      <td>30000.000000</td>\n",
              "      <td>30000.000000</td>\n",
              "      <td>30000.000000</td>\n",
              "      <td>30000.000000</td>\n",
              "      <td>30000.000000</td>\n",
              "      <td>30000.000000</td>\n",
              "      <td>30000.000000</td>\n",
              "      <td>30000.000000</td>\n",
              "      <td>30000.000000</td>\n",
              "      <td>30000.000000</td>\n",
              "      <td>30000.000000</td>\n",
              "      <td>30000.000000</td>\n",
              "      <td>30000.000000</td>\n",
              "      <td>30000.000000</td>\n",
              "      <td>30000.000000</td>\n",
              "      <td>30000.000000</td>\n",
              "    </tr>\n",
              "    <tr>\n",
              "      <th>mean</th>\n",
              "      <td>54.674267</td>\n",
              "      <td>121.653852</td>\n",
              "      <td>140.135036</td>\n",
              "      <td>28.476155</td>\n",
              "      <td>94.954992</td>\n",
              "      <td>4.414133</td>\n",
              "      <td>213.033891</td>\n",
              "      <td>176.837375</td>\n",
              "      <td>6.294377</td>\n",
              "      <td>0.279767</td>\n",
              "      <td>0.238533</td>\n",
              "      <td>3.803214</td>\n",
              "      <td>4.029654</td>\n",
              "      <td>0.439433</td>\n",
              "      <td>5.917312</td>\n",
              "      <td>6.229836</td>\n",
              "      <td>-0.517010</td>\n",
              "    </tr>\n",
              "    <tr>\n",
              "      <th>std</th>\n",
              "      <td>14.727541</td>\n",
              "      <td>38.617255</td>\n",
              "      <td>19.447790</td>\n",
              "      <td>5.728804</td>\n",
              "      <td>3.736202</td>\n",
              "      <td>2.761536</td>\n",
              "      <td>33.519757</td>\n",
              "      <td>48.812827</td>\n",
              "      <td>1.320269</td>\n",
              "      <td>0.448892</td>\n",
              "      <td>0.426194</td>\n",
              "      <td>2.011729</td>\n",
              "      <td>1.817165</td>\n",
              "      <td>0.496326</td>\n",
              "      <td>2.225057</td>\n",
              "      <td>1.187669</td>\n",
              "      <td>100.076959</td>\n",
              "    </tr>\n",
              "    <tr>\n",
              "      <th>min</th>\n",
              "      <td>10.000000</td>\n",
              "      <td>20.320000</td>\n",
              "      <td>74.240000</td>\n",
              "      <td>7.670000</td>\n",
              "      <td>67.510000</td>\n",
              "      <td>1.000000</td>\n",
              "      <td>95.730000</td>\n",
              "      <td>-22.480000</td>\n",
              "      <td>3.280000</td>\n",
              "      <td>0.000000</td>\n",
              "      <td>0.000000</td>\n",
              "      <td>-3.680000</td>\n",
              "      <td>-1.750000</td>\n",
              "      <td>0.000000</td>\n",
              "      <td>-2.440000</td>\n",
              "      <td>1.590000</td>\n",
              "      <td>-412.169596</td>\n",
              "    </tr>\n",
              "    <tr>\n",
              "      <th>25%</th>\n",
              "      <td>47.000000</td>\n",
              "      <td>98.860000</td>\n",
              "      <td>127.730000</td>\n",
              "      <td>24.590000</td>\n",
              "      <td>93.000000</td>\n",
              "      <td>3.000000</td>\n",
              "      <td>189.500000</td>\n",
              "      <td>141.280000</td>\n",
              "      <td>5.330000</td>\n",
              "      <td>0.000000</td>\n",
              "      <td>0.000000</td>\n",
              "      <td>2.350000</td>\n",
              "      <td>2.770000</td>\n",
              "      <td>0.000000</td>\n",
              "      <td>4.370000</td>\n",
              "      <td>5.410000</td>\n",
              "      <td>-68.270749</td>\n",
              "    </tr>\n",
              "    <tr>\n",
              "      <th>50%</th>\n",
              "      <td>55.000000</td>\n",
              "      <td>110.500000</td>\n",
              "      <td>138.320000</td>\n",
              "      <td>28.050000</td>\n",
              "      <td>95.300000</td>\n",
              "      <td>4.000000</td>\n",
              "      <td>211.835000</td>\n",
              "      <td>173.365000</td>\n",
              "      <td>5.970000</td>\n",
              "      <td>0.000000</td>\n",
              "      <td>0.000000</td>\n",
              "      <td>3.590000</td>\n",
              "      <td>3.790000</td>\n",
              "      <td>0.000000</td>\n",
              "      <td>5.900000</td>\n",
              "      <td>6.230000</td>\n",
              "      <td>-0.510742</td>\n",
              "    </tr>\n",
              "    <tr>\n",
              "      <th>75%</th>\n",
              "      <td>64.000000</td>\n",
              "      <td>128.870000</td>\n",
              "      <td>150.630000</td>\n",
              "      <td>31.810000</td>\n",
              "      <td>97.380000</td>\n",
              "      <td>5.000000</td>\n",
              "      <td>235.310000</td>\n",
              "      <td>208.630000</td>\n",
              "      <td>6.920000</td>\n",
              "      <td>1.000000</td>\n",
              "      <td>0.000000</td>\n",
              "      <td>5.060000</td>\n",
              "      <td>5.020000</td>\n",
              "      <td>1.000000</td>\n",
              "      <td>7.440000</td>\n",
              "      <td>7.050000</td>\n",
              "      <td>66.811399</td>\n",
              "    </tr>\n",
              "    <tr>\n",
              "      <th>max</th>\n",
              "      <td>89.000000</td>\n",
              "      <td>318.510000</td>\n",
              "      <td>226.380000</td>\n",
              "      <td>56.850000</td>\n",
              "      <td>110.070000</td>\n",
              "      <td>19.000000</td>\n",
              "      <td>358.370000</td>\n",
              "      <td>421.510000</td>\n",
              "      <td>12.360000</td>\n",
              "      <td>1.000000</td>\n",
              "      <td>1.000000</td>\n",
              "      <td>12.410000</td>\n",
              "      <td>12.060000</td>\n",
              "      <td>1.000000</td>\n",
              "      <td>15.450000</td>\n",
              "      <td>10.350000</td>\n",
              "      <td>467.894910</td>\n",
              "    </tr>\n",
              "  </tbody>\n",
              "</table>\n",
              "</div>\n",
              "    <div class=\"colab-df-buttons\">\n",
              "\n",
              "  <div class=\"colab-df-container\">\n",
              "    <button class=\"colab-df-convert\" onclick=\"convertToInteractive('df-a1bd2e68-90a6-4665-a654-cf2bc41c5c5a')\"\n",
              "            title=\"Convert this dataframe to an interactive table.\"\n",
              "            style=\"display:none;\">\n",
              "\n",
              "  <svg xmlns=\"http://www.w3.org/2000/svg\" height=\"24px\" viewBox=\"0 -960 960 960\">\n",
              "    <path d=\"M120-120v-720h720v720H120Zm60-500h600v-160H180v160Zm220 220h160v-160H400v160Zm0 220h160v-160H400v160ZM180-400h160v-160H180v160Zm440 0h160v-160H620v160ZM180-180h160v-160H180v160Zm440 0h160v-160H620v160Z\"/>\n",
              "  </svg>\n",
              "    </button>\n",
              "\n",
              "  <style>\n",
              "    .colab-df-container {\n",
              "      display:flex;\n",
              "      gap: 12px;\n",
              "    }\n",
              "\n",
              "    .colab-df-convert {\n",
              "      background-color: #E8F0FE;\n",
              "      border: none;\n",
              "      border-radius: 50%;\n",
              "      cursor: pointer;\n",
              "      display: none;\n",
              "      fill: #1967D2;\n",
              "      height: 32px;\n",
              "      padding: 0 0 0 0;\n",
              "      width: 32px;\n",
              "    }\n",
              "\n",
              "    .colab-df-convert:hover {\n",
              "      background-color: #E2EBFA;\n",
              "      box-shadow: 0px 1px 2px rgba(60, 64, 67, 0.3), 0px 1px 3px 1px rgba(60, 64, 67, 0.15);\n",
              "      fill: #174EA6;\n",
              "    }\n",
              "\n",
              "    .colab-df-buttons div {\n",
              "      margin-bottom: 4px;\n",
              "    }\n",
              "\n",
              "    [theme=dark] .colab-df-convert {\n",
              "      background-color: #3B4455;\n",
              "      fill: #D2E3FC;\n",
              "    }\n",
              "\n",
              "    [theme=dark] .colab-df-convert:hover {\n",
              "      background-color: #434B5C;\n",
              "      box-shadow: 0px 1px 3px 1px rgba(0, 0, 0, 0.15);\n",
              "      filter: drop-shadow(0px 1px 2px rgba(0, 0, 0, 0.3));\n",
              "      fill: #FFFFFF;\n",
              "    }\n",
              "  </style>\n",
              "\n",
              "    <script>\n",
              "      const buttonEl =\n",
              "        document.querySelector('#df-a1bd2e68-90a6-4665-a654-cf2bc41c5c5a button.colab-df-convert');\n",
              "      buttonEl.style.display =\n",
              "        google.colab.kernel.accessAllowed ? 'block' : 'none';\n",
              "\n",
              "      async function convertToInteractive(key) {\n",
              "        const element = document.querySelector('#df-a1bd2e68-90a6-4665-a654-cf2bc41c5c5a');\n",
              "        const dataTable =\n",
              "          await google.colab.kernel.invokeFunction('convertToInteractive',\n",
              "                                                    [key], {});\n",
              "        if (!dataTable) return;\n",
              "\n",
              "        const docLinkHtml = 'Like what you see? Visit the ' +\n",
              "          '<a target=\"_blank\" href=https://colab.research.google.com/notebooks/data_table.ipynb>data table notebook</a>'\n",
              "          + ' to learn more about interactive tables.';\n",
              "        element.innerHTML = '';\n",
              "        dataTable['output_type'] = 'display_data';\n",
              "        await google.colab.output.renderOutput(dataTable, element);\n",
              "        const docLink = document.createElement('div');\n",
              "        docLink.innerHTML = docLinkHtml;\n",
              "        element.appendChild(docLink);\n",
              "      }\n",
              "    </script>\n",
              "  </div>\n",
              "\n",
              "\n",
              "    <div id=\"df-16dedfbc-a289-46ca-bb62-df236f269bc8\">\n",
              "      <button class=\"colab-df-quickchart\" onclick=\"quickchart('df-16dedfbc-a289-46ca-bb62-df236f269bc8')\"\n",
              "                title=\"Suggest charts\"\n",
              "                style=\"display:none;\">\n",
              "\n",
              "<svg xmlns=\"http://www.w3.org/2000/svg\" height=\"24px\"viewBox=\"0 0 24 24\"\n",
              "     width=\"24px\">\n",
              "    <g>\n",
              "        <path d=\"M19 3H5c-1.1 0-2 .9-2 2v14c0 1.1.9 2 2 2h14c1.1 0 2-.9 2-2V5c0-1.1-.9-2-2-2zM9 17H7v-7h2v7zm4 0h-2V7h2v10zm4 0h-2v-4h2v4z\"/>\n",
              "    </g>\n",
              "</svg>\n",
              "      </button>\n",
              "\n",
              "<style>\n",
              "  .colab-df-quickchart {\n",
              "      --bg-color: #E8F0FE;\n",
              "      --fill-color: #1967D2;\n",
              "      --hover-bg-color: #E2EBFA;\n",
              "      --hover-fill-color: #174EA6;\n",
              "      --disabled-fill-color: #AAA;\n",
              "      --disabled-bg-color: #DDD;\n",
              "  }\n",
              "\n",
              "  [theme=dark] .colab-df-quickchart {\n",
              "      --bg-color: #3B4455;\n",
              "      --fill-color: #D2E3FC;\n",
              "      --hover-bg-color: #434B5C;\n",
              "      --hover-fill-color: #FFFFFF;\n",
              "      --disabled-bg-color: #3B4455;\n",
              "      --disabled-fill-color: #666;\n",
              "  }\n",
              "\n",
              "  .colab-df-quickchart {\n",
              "    background-color: var(--bg-color);\n",
              "    border: none;\n",
              "    border-radius: 50%;\n",
              "    cursor: pointer;\n",
              "    display: none;\n",
              "    fill: var(--fill-color);\n",
              "    height: 32px;\n",
              "    padding: 0;\n",
              "    width: 32px;\n",
              "  }\n",
              "\n",
              "  .colab-df-quickchart:hover {\n",
              "    background-color: var(--hover-bg-color);\n",
              "    box-shadow: 0 1px 2px rgba(60, 64, 67, 0.3), 0 1px 3px 1px rgba(60, 64, 67, 0.15);\n",
              "    fill: var(--button-hover-fill-color);\n",
              "  }\n",
              "\n",
              "  .colab-df-quickchart-complete:disabled,\n",
              "  .colab-df-quickchart-complete:disabled:hover {\n",
              "    background-color: var(--disabled-bg-color);\n",
              "    fill: var(--disabled-fill-color);\n",
              "    box-shadow: none;\n",
              "  }\n",
              "\n",
              "  .colab-df-spinner {\n",
              "    border: 2px solid var(--fill-color);\n",
              "    border-color: transparent;\n",
              "    border-bottom-color: var(--fill-color);\n",
              "    animation:\n",
              "      spin 1s steps(1) infinite;\n",
              "  }\n",
              "\n",
              "  @keyframes spin {\n",
              "    0% {\n",
              "      border-color: transparent;\n",
              "      border-bottom-color: var(--fill-color);\n",
              "      border-left-color: var(--fill-color);\n",
              "    }\n",
              "    20% {\n",
              "      border-color: transparent;\n",
              "      border-left-color: var(--fill-color);\n",
              "      border-top-color: var(--fill-color);\n",
              "    }\n",
              "    30% {\n",
              "      border-color: transparent;\n",
              "      border-left-color: var(--fill-color);\n",
              "      border-top-color: var(--fill-color);\n",
              "      border-right-color: var(--fill-color);\n",
              "    }\n",
              "    40% {\n",
              "      border-color: transparent;\n",
              "      border-right-color: var(--fill-color);\n",
              "      border-top-color: var(--fill-color);\n",
              "    }\n",
              "    60% {\n",
              "      border-color: transparent;\n",
              "      border-right-color: var(--fill-color);\n",
              "    }\n",
              "    80% {\n",
              "      border-color: transparent;\n",
              "      border-right-color: var(--fill-color);\n",
              "      border-bottom-color: var(--fill-color);\n",
              "    }\n",
              "    90% {\n",
              "      border-color: transparent;\n",
              "      border-bottom-color: var(--fill-color);\n",
              "    }\n",
              "  }\n",
              "</style>\n",
              "\n",
              "      <script>\n",
              "        async function quickchart(key) {\n",
              "          const quickchartButtonEl =\n",
              "            document.querySelector('#' + key + ' button');\n",
              "          quickchartButtonEl.disabled = true;  // To prevent multiple clicks.\n",
              "          quickchartButtonEl.classList.add('colab-df-spinner');\n",
              "          try {\n",
              "            const charts = await google.colab.kernel.invokeFunction(\n",
              "                'suggestCharts', [key], {});\n",
              "          } catch (error) {\n",
              "            console.error('Error during call to suggestCharts:', error);\n",
              "          }\n",
              "          quickchartButtonEl.classList.remove('colab-df-spinner');\n",
              "          quickchartButtonEl.classList.add('colab-df-quickchart-complete');\n",
              "        }\n",
              "        (() => {\n",
              "          let quickchartButtonEl =\n",
              "            document.querySelector('#df-16dedfbc-a289-46ca-bb62-df236f269bc8 button');\n",
              "          quickchartButtonEl.style.display =\n",
              "            google.colab.kernel.accessAllowed ? 'block' : 'none';\n",
              "        })();\n",
              "      </script>\n",
              "    </div>\n",
              "\n",
              "    </div>\n",
              "  </div>\n"
            ],
            "application/vnd.google.colaboratory.intrinsic+json": {
              "type": "dataframe",
              "summary": "{\n  \"name\": \"df\",\n  \"rows\": 8,\n  \"fields\": [\n    {\n      \"column\": \"Age\",\n      \"properties\": {\n        \"dtype\": \"number\",\n        \"std\": 10589.742783521277,\n        \"min\": 10.0,\n        \"max\": 30000.0,\n        \"num_unique_values\": 8,\n        \"samples\": [\n          54.67426666666667,\n          55.0,\n          30000.0\n        ],\n        \"semantic_type\": \"\",\n        \"description\": \"\"\n      }\n    },\n    {\n      \"column\": \"Glucose\",\n      \"properties\": {\n        \"dtype\": \"number\",\n        \"std\": 10564.692678742054,\n        \"min\": 20.32,\n        \"max\": 30000.0,\n        \"num_unique_values\": 8,\n        \"samples\": [\n          121.65385199999999,\n          110.5,\n          30000.0\n        ],\n        \"semantic_type\": \"\",\n        \"description\": \"\"\n      }\n    },\n    {\n      \"column\": \"Blood Pressure\",\n      \"properties\": {\n        \"dtype\": \"number\",\n        \"std\": 10562.481957165694,\n        \"min\": 19.44778962220119,\n        \"max\": 30000.0,\n        \"num_unique_values\": 8,\n        \"samples\": [\n          140.13503633333332,\n          138.32,\n          30000.0\n        ],\n        \"semantic_type\": \"\",\n        \"description\": \"\"\n      }\n    },\n    {\n      \"column\": \"BMI\",\n      \"properties\": {\n        \"dtype\": \"number\",\n        \"std\": 10597.361743675587,\n        \"min\": 5.728803504938212,\n        \"max\": 30000.0,\n        \"num_unique_values\": 8,\n        \"samples\": [\n          28.476155333333335,\n          28.05,\n          30000.0\n        ],\n        \"semantic_type\": \"\",\n        \"description\": \"\"\n      }\n    },\n    {\n      \"column\": \"Oxygen Saturation\",\n      \"properties\": {\n        \"dtype\": \"number\",\n        \"std\": 10578.271596382341,\n        \"min\": 3.7362024258447324,\n        \"max\": 30000.0,\n        \"num_unique_values\": 8,\n        \"samples\": [\n          94.95499199999999,\n          95.3,\n          30000.0\n        ],\n        \"semantic_type\": \"\",\n        \"description\": \"\"\n      }\n    },\n    {\n      \"column\": \"LengthOfStay\",\n      \"properties\": {\n        \"dtype\": \"number\",\n        \"std\": 10604.62452860589,\n        \"min\": 1.0,\n        \"max\": 30000.0,\n        \"num_unique_values\": 8,\n        \"samples\": [\n          4.414133333333333,\n          4.0,\n          30000.0\n        ],\n        \"semantic_type\": \"\",\n        \"description\": \"\"\n      }\n    },\n    {\n      \"column\": \"Cholesterol\",\n      \"properties\": {\n        \"dtype\": \"number\",\n        \"std\": 10539.496935651476,\n        \"min\": 33.51975737691397,\n        \"max\": 30000.0,\n        \"num_unique_values\": 8,\n        \"samples\": [\n          213.03389066666665,\n          211.835,\n          30000.0\n        ],\n        \"semantic_type\": \"\",\n        \"description\": \"\"\n      }\n    },\n    {\n      \"column\": \"Triglycerides\",\n      \"properties\": {\n        \"dtype\": \"number\",\n        \"std\": 10549.414221820265,\n        \"min\": -22.48,\n        \"max\": 30000.0,\n        \"num_unique_values\": 8,\n        \"samples\": [\n          176.83737466666668,\n          173.365,\n          30000.0\n        ],\n        \"semantic_type\": \"\",\n        \"description\": \"\"\n      }\n    },\n    {\n      \"column\": \"HbA1c\",\n      \"properties\": {\n        \"dtype\": \"number\",\n        \"std\": 10604.507410671624,\n        \"min\": 1.3202693041846425,\n        \"max\": 30000.0,\n        \"num_unique_values\": 8,\n        \"samples\": [\n          6.294377,\n          5.97,\n          30000.0\n        ],\n        \"semantic_type\": \"\",\n        \"description\": \"\"\n      }\n    },\n    {\n      \"column\": \"Smoking\",\n      \"properties\": {\n        \"dtype\": \"number\",\n        \"std\": 10606.463907915124,\n        \"min\": 0.0,\n        \"max\": 30000.0,\n        \"num_unique_values\": 5,\n        \"samples\": [\n          0.27976666666666666,\n          1.0,\n          0.4488919643843054\n        ],\n        \"semantic_type\": \"\",\n        \"description\": \"\"\n      }\n    },\n    {\n      \"column\": \"Alcohol\",\n      \"properties\": {\n        \"dtype\": \"number\",\n        \"std\": 10606.51764205054,\n        \"min\": 0.0,\n        \"max\": 30000.0,\n        \"num_unique_values\": 5,\n        \"samples\": [\n          0.23853333333333335,\n          1.0,\n          0.42619389593251567\n        ],\n        \"semantic_type\": \"\",\n        \"description\": \"\"\n      }\n    },\n    {\n      \"column\": \"Physical Activity\",\n      \"properties\": {\n        \"dtype\": \"number\",\n        \"std\": 10605.312425087728,\n        \"min\": -3.68,\n        \"max\": 30000.0,\n        \"num_unique_values\": 8,\n        \"samples\": [\n          3.803214333333333,\n          3.59,\n          30000.0\n        ],\n        \"semantic_type\": \"\",\n        \"description\": \"\"\n      }\n    },\n    {\n      \"column\": \"Diet Score\",\n      \"properties\": {\n        \"dtype\": \"number\",\n        \"std\": 10605.201506642308,\n        \"min\": -1.75,\n        \"max\": 30000.0,\n        \"num_unique_values\": 8,\n        \"samples\": [\n          4.029653666666667,\n          3.79,\n          30000.0\n        ],\n        \"semantic_type\": \"\",\n        \"description\": \"\"\n      }\n    },\n    {\n      \"column\": \"Family History\",\n      \"properties\": {\n        \"dtype\": \"number\",\n        \"std\": 10606.453447676793,\n        \"min\": 0.0,\n        \"max\": 30000.0,\n        \"num_unique_values\": 5,\n        \"samples\": [\n          0.43943333333333334,\n          1.0,\n          0.4963263948436587\n        ],\n        \"semantic_type\": \"\",\n        \"description\": \"\"\n      }\n    },\n    {\n      \"column\": \"Stress Level\",\n      \"properties\": {\n        \"dtype\": \"number\",\n        \"std\": 10604.640071565727,\n        \"min\": -2.44,\n        \"max\": 30000.0,\n        \"num_unique_values\": 8,\n        \"samples\": [\n          5.9173116666666665,\n          5.9,\n          30000.0\n        ],\n        \"semantic_type\": \"\",\n        \"description\": \"\"\n      }\n    },\n    {\n      \"column\": \"Sleep Hours\",\n      \"properties\": {\n        \"dtype\": \"number\",\n        \"std\": 10604.680438483238,\n        \"min\": 1.187669331762546,\n        \"max\": 30000.0,\n        \"num_unique_values\": 8,\n        \"samples\": [\n          6.229835666666667,\n          6.23,\n          30000.0\n        ],\n        \"semantic_type\": \"\",\n        \"description\": \"\"\n      }\n    },\n    {\n      \"column\": \"noise_col\",\n      \"properties\": {\n        \"dtype\": \"number\",\n        \"std\": 10601.584437067533,\n        \"min\": -412.1695960009927,\n        \"max\": 30000.0,\n        \"num_unique_values\": 8,\n        \"samples\": [\n          -0.5170104913789504,\n          -0.5107418379168525,\n          30000.0\n        ],\n        \"semantic_type\": \"\",\n        \"description\": \"\"\n      }\n    }\n  ]\n}"
            }
          },
          "metadata": {},
          "execution_count": 170
        }
      ]
    },
    {
      "cell_type": "code",
      "source": [
        "#Categorical Columns stats summary\n",
        "df.describe(include = 'object')"
      ],
      "metadata": {
        "colab": {
          "base_uri": "https://localhost:8080/",
          "height": 175
        },
        "id": "3MFc6-xcWnpu",
        "outputId": "ba7081a5-a7c2-4a88-b23f-aa4f858c301c"
      },
      "execution_count": 171,
      "outputs": [
        {
          "output_type": "execute_result",
          "data": {
            "text/plain": [
              "        Gender Medical Condition random_notes\n",
              "count    30000             30000        30000\n",
              "unique       2                 7            4\n",
              "top     Female      Hypertension          ###\n",
              "freq     17365             11620         7575"
            ],
            "text/html": [
              "\n",
              "  <div id=\"df-0db795ea-beee-48f6-9c28-19cca8c0a00b\" class=\"colab-df-container\">\n",
              "    <div>\n",
              "<style scoped>\n",
              "    .dataframe tbody tr th:only-of-type {\n",
              "        vertical-align: middle;\n",
              "    }\n",
              "\n",
              "    .dataframe tbody tr th {\n",
              "        vertical-align: top;\n",
              "    }\n",
              "\n",
              "    .dataframe thead th {\n",
              "        text-align: right;\n",
              "    }\n",
              "</style>\n",
              "<table border=\"1\" class=\"dataframe\">\n",
              "  <thead>\n",
              "    <tr style=\"text-align: right;\">\n",
              "      <th></th>\n",
              "      <th>Gender</th>\n",
              "      <th>Medical Condition</th>\n",
              "      <th>random_notes</th>\n",
              "    </tr>\n",
              "  </thead>\n",
              "  <tbody>\n",
              "    <tr>\n",
              "      <th>count</th>\n",
              "      <td>30000</td>\n",
              "      <td>30000</td>\n",
              "      <td>30000</td>\n",
              "    </tr>\n",
              "    <tr>\n",
              "      <th>unique</th>\n",
              "      <td>2</td>\n",
              "      <td>7</td>\n",
              "      <td>4</td>\n",
              "    </tr>\n",
              "    <tr>\n",
              "      <th>top</th>\n",
              "      <td>Female</td>\n",
              "      <td>Hypertension</td>\n",
              "      <td>###</td>\n",
              "    </tr>\n",
              "    <tr>\n",
              "      <th>freq</th>\n",
              "      <td>17365</td>\n",
              "      <td>11620</td>\n",
              "      <td>7575</td>\n",
              "    </tr>\n",
              "  </tbody>\n",
              "</table>\n",
              "</div>\n",
              "    <div class=\"colab-df-buttons\">\n",
              "\n",
              "  <div class=\"colab-df-container\">\n",
              "    <button class=\"colab-df-convert\" onclick=\"convertToInteractive('df-0db795ea-beee-48f6-9c28-19cca8c0a00b')\"\n",
              "            title=\"Convert this dataframe to an interactive table.\"\n",
              "            style=\"display:none;\">\n",
              "\n",
              "  <svg xmlns=\"http://www.w3.org/2000/svg\" height=\"24px\" viewBox=\"0 -960 960 960\">\n",
              "    <path d=\"M120-120v-720h720v720H120Zm60-500h600v-160H180v160Zm220 220h160v-160H400v160Zm0 220h160v-160H400v160ZM180-400h160v-160H180v160Zm440 0h160v-160H620v160ZM180-180h160v-160H180v160Zm440 0h160v-160H620v160Z\"/>\n",
              "  </svg>\n",
              "    </button>\n",
              "\n",
              "  <style>\n",
              "    .colab-df-container {\n",
              "      display:flex;\n",
              "      gap: 12px;\n",
              "    }\n",
              "\n",
              "    .colab-df-convert {\n",
              "      background-color: #E8F0FE;\n",
              "      border: none;\n",
              "      border-radius: 50%;\n",
              "      cursor: pointer;\n",
              "      display: none;\n",
              "      fill: #1967D2;\n",
              "      height: 32px;\n",
              "      padding: 0 0 0 0;\n",
              "      width: 32px;\n",
              "    }\n",
              "\n",
              "    .colab-df-convert:hover {\n",
              "      background-color: #E2EBFA;\n",
              "      box-shadow: 0px 1px 2px rgba(60, 64, 67, 0.3), 0px 1px 3px 1px rgba(60, 64, 67, 0.15);\n",
              "      fill: #174EA6;\n",
              "    }\n",
              "\n",
              "    .colab-df-buttons div {\n",
              "      margin-bottom: 4px;\n",
              "    }\n",
              "\n",
              "    [theme=dark] .colab-df-convert {\n",
              "      background-color: #3B4455;\n",
              "      fill: #D2E3FC;\n",
              "    }\n",
              "\n",
              "    [theme=dark] .colab-df-convert:hover {\n",
              "      background-color: #434B5C;\n",
              "      box-shadow: 0px 1px 3px 1px rgba(0, 0, 0, 0.15);\n",
              "      filter: drop-shadow(0px 1px 2px rgba(0, 0, 0, 0.3));\n",
              "      fill: #FFFFFF;\n",
              "    }\n",
              "  </style>\n",
              "\n",
              "    <script>\n",
              "      const buttonEl =\n",
              "        document.querySelector('#df-0db795ea-beee-48f6-9c28-19cca8c0a00b button.colab-df-convert');\n",
              "      buttonEl.style.display =\n",
              "        google.colab.kernel.accessAllowed ? 'block' : 'none';\n",
              "\n",
              "      async function convertToInteractive(key) {\n",
              "        const element = document.querySelector('#df-0db795ea-beee-48f6-9c28-19cca8c0a00b');\n",
              "        const dataTable =\n",
              "          await google.colab.kernel.invokeFunction('convertToInteractive',\n",
              "                                                    [key], {});\n",
              "        if (!dataTable) return;\n",
              "\n",
              "        const docLinkHtml = 'Like what you see? Visit the ' +\n",
              "          '<a target=\"_blank\" href=https://colab.research.google.com/notebooks/data_table.ipynb>data table notebook</a>'\n",
              "          + ' to learn more about interactive tables.';\n",
              "        element.innerHTML = '';\n",
              "        dataTable['output_type'] = 'display_data';\n",
              "        await google.colab.output.renderOutput(dataTable, element);\n",
              "        const docLink = document.createElement('div');\n",
              "        docLink.innerHTML = docLinkHtml;\n",
              "        element.appendChild(docLink);\n",
              "      }\n",
              "    </script>\n",
              "  </div>\n",
              "\n",
              "\n",
              "    <div id=\"df-76a62256-da2a-419b-a595-ee2c99b45ffc\">\n",
              "      <button class=\"colab-df-quickchart\" onclick=\"quickchart('df-76a62256-da2a-419b-a595-ee2c99b45ffc')\"\n",
              "                title=\"Suggest charts\"\n",
              "                style=\"display:none;\">\n",
              "\n",
              "<svg xmlns=\"http://www.w3.org/2000/svg\" height=\"24px\"viewBox=\"0 0 24 24\"\n",
              "     width=\"24px\">\n",
              "    <g>\n",
              "        <path d=\"M19 3H5c-1.1 0-2 .9-2 2v14c0 1.1.9 2 2 2h14c1.1 0 2-.9 2-2V5c0-1.1-.9-2-2-2zM9 17H7v-7h2v7zm4 0h-2V7h2v10zm4 0h-2v-4h2v4z\"/>\n",
              "    </g>\n",
              "</svg>\n",
              "      </button>\n",
              "\n",
              "<style>\n",
              "  .colab-df-quickchart {\n",
              "      --bg-color: #E8F0FE;\n",
              "      --fill-color: #1967D2;\n",
              "      --hover-bg-color: #E2EBFA;\n",
              "      --hover-fill-color: #174EA6;\n",
              "      --disabled-fill-color: #AAA;\n",
              "      --disabled-bg-color: #DDD;\n",
              "  }\n",
              "\n",
              "  [theme=dark] .colab-df-quickchart {\n",
              "      --bg-color: #3B4455;\n",
              "      --fill-color: #D2E3FC;\n",
              "      --hover-bg-color: #434B5C;\n",
              "      --hover-fill-color: #FFFFFF;\n",
              "      --disabled-bg-color: #3B4455;\n",
              "      --disabled-fill-color: #666;\n",
              "  }\n",
              "\n",
              "  .colab-df-quickchart {\n",
              "    background-color: var(--bg-color);\n",
              "    border: none;\n",
              "    border-radius: 50%;\n",
              "    cursor: pointer;\n",
              "    display: none;\n",
              "    fill: var(--fill-color);\n",
              "    height: 32px;\n",
              "    padding: 0;\n",
              "    width: 32px;\n",
              "  }\n",
              "\n",
              "  .colab-df-quickchart:hover {\n",
              "    background-color: var(--hover-bg-color);\n",
              "    box-shadow: 0 1px 2px rgba(60, 64, 67, 0.3), 0 1px 3px 1px rgba(60, 64, 67, 0.15);\n",
              "    fill: var(--button-hover-fill-color);\n",
              "  }\n",
              "\n",
              "  .colab-df-quickchart-complete:disabled,\n",
              "  .colab-df-quickchart-complete:disabled:hover {\n",
              "    background-color: var(--disabled-bg-color);\n",
              "    fill: var(--disabled-fill-color);\n",
              "    box-shadow: none;\n",
              "  }\n",
              "\n",
              "  .colab-df-spinner {\n",
              "    border: 2px solid var(--fill-color);\n",
              "    border-color: transparent;\n",
              "    border-bottom-color: var(--fill-color);\n",
              "    animation:\n",
              "      spin 1s steps(1) infinite;\n",
              "  }\n",
              "\n",
              "  @keyframes spin {\n",
              "    0% {\n",
              "      border-color: transparent;\n",
              "      border-bottom-color: var(--fill-color);\n",
              "      border-left-color: var(--fill-color);\n",
              "    }\n",
              "    20% {\n",
              "      border-color: transparent;\n",
              "      border-left-color: var(--fill-color);\n",
              "      border-top-color: var(--fill-color);\n",
              "    }\n",
              "    30% {\n",
              "      border-color: transparent;\n",
              "      border-left-color: var(--fill-color);\n",
              "      border-top-color: var(--fill-color);\n",
              "      border-right-color: var(--fill-color);\n",
              "    }\n",
              "    40% {\n",
              "      border-color: transparent;\n",
              "      border-right-color: var(--fill-color);\n",
              "      border-top-color: var(--fill-color);\n",
              "    }\n",
              "    60% {\n",
              "      border-color: transparent;\n",
              "      border-right-color: var(--fill-color);\n",
              "    }\n",
              "    80% {\n",
              "      border-color: transparent;\n",
              "      border-right-color: var(--fill-color);\n",
              "      border-bottom-color: var(--fill-color);\n",
              "    }\n",
              "    90% {\n",
              "      border-color: transparent;\n",
              "      border-bottom-color: var(--fill-color);\n",
              "    }\n",
              "  }\n",
              "</style>\n",
              "\n",
              "      <script>\n",
              "        async function quickchart(key) {\n",
              "          const quickchartButtonEl =\n",
              "            document.querySelector('#' + key + ' button');\n",
              "          quickchartButtonEl.disabled = true;  // To prevent multiple clicks.\n",
              "          quickchartButtonEl.classList.add('colab-df-spinner');\n",
              "          try {\n",
              "            const charts = await google.colab.kernel.invokeFunction(\n",
              "                'suggestCharts', [key], {});\n",
              "          } catch (error) {\n",
              "            console.error('Error during call to suggestCharts:', error);\n",
              "          }\n",
              "          quickchartButtonEl.classList.remove('colab-df-spinner');\n",
              "          quickchartButtonEl.classList.add('colab-df-quickchart-complete');\n",
              "        }\n",
              "        (() => {\n",
              "          let quickchartButtonEl =\n",
              "            document.querySelector('#df-76a62256-da2a-419b-a595-ee2c99b45ffc button');\n",
              "          quickchartButtonEl.style.display =\n",
              "            google.colab.kernel.accessAllowed ? 'block' : 'none';\n",
              "        })();\n",
              "      </script>\n",
              "    </div>\n",
              "\n",
              "    </div>\n",
              "  </div>\n"
            ],
            "application/vnd.google.colaboratory.intrinsic+json": {
              "type": "dataframe",
              "summary": "{\n  \"name\": \"df\",\n  \"rows\": 4,\n  \"fields\": [\n    {\n      \"column\": \"Gender\",\n      \"properties\": {\n        \"dtype\": \"string\",\n        \"num_unique_values\": 4,\n        \"samples\": [\n          2,\n          \"17365\",\n          \"30000\"\n        ],\n        \"semantic_type\": \"\",\n        \"description\": \"\"\n      }\n    },\n    {\n      \"column\": \"Medical Condition\",\n      \"properties\": {\n        \"dtype\": \"string\",\n        \"num_unique_values\": 4,\n        \"samples\": [\n          7,\n          \"11620\",\n          \"30000\"\n        ],\n        \"semantic_type\": \"\",\n        \"description\": \"\"\n      }\n    },\n    {\n      \"column\": \"random_notes\",\n      \"properties\": {\n        \"dtype\": \"string\",\n        \"num_unique_values\": 4,\n        \"samples\": [\n          4,\n          \"7575\",\n          \"30000\"\n        ],\n        \"semantic_type\": \"\",\n        \"description\": \"\"\n      }\n    }\n  ]\n}"
            }
          },
          "metadata": {},
          "execution_count": 171
        }
      ]
    },
    {
      "cell_type": "markdown",
      "source": [
        "# **Part 3: Classification Evaluation with Confusion Matrix**"
      ],
      "metadata": {
        "id": "MwUTC_NOXMkT"
      }
    },
    {
      "cell_type": "markdown",
      "source": [
        "## **Task 5: Dataset-Based Classification Evaluation**"
      ],
      "metadata": {
        "id": "ryuZC0asXYj-"
      }
    },
    {
      "cell_type": "markdown",
      "source": [
        "**Binary Classification on the Iris Dataset**\n",
        "\n",
        "*   Split the data into training and testing sets (e.g., 70/30 split)\n",
        "*   Train a simple Logistic Regression classifier.\n",
        "*   Use the model to make predictions on the test set.\n",
        "*   Generate the Confusion Matrix\n",
        "*   Calculate and display : Accuracy, F1-score, Precision, Recall\n"
      ],
      "metadata": {
        "id": "6GROWHfZe9ET"
      }
    },
    {
      "cell_type": "code",
      "source": [
        "# Import necessary libraries\n",
        "from sklearn.datasets import load_iris\n",
        "from sklearn.linear_model import LogisticRegression\n",
        "from sklearn.model_selection import train_test_split\n",
        "from sklearn.metrics import (\n",
        "    confusion_matrix, accuracy_score, precision_score,\n",
        "    recall_score, f1_score\n",
        ")\n",
        "import pandas as pd\n",
        "\n",
        "# Load Iris dataset\n",
        "iris = load_iris()\n",
        "df = pd.DataFrame(iris.data, columns=iris.feature_names)\n",
        "df['target'] = iris.target\n",
        "\n",
        "# Convert to binary classification: 1 if Versicolor, else 0\n",
        "df['binary_target'] = (df['target'] == 1).astype(int)\n",
        "\n",
        "# Features and target\n",
        "X = df[iris.feature_names]\n",
        "y = df['binary_target']\n",
        "\n",
        "# Train-test split (70% train, 30% test)\n",
        "X_train, X_test, y_train, y_test = train_test_split(X, y, test_size=0.3, random_state=42)\n",
        "\n",
        "# Train Logistic Regression model\n",
        "model = LogisticRegression()\n",
        "model.fit(X_train, y_train)\n",
        "\n",
        "# Make predictions\n",
        "y_pred = model.predict(X_test)\n",
        "\n",
        "# Confusion Matrix\n",
        "cm = confusion_matrix(y_test, y_pred)\n",
        "print(\"Confusion Matrix:\")\n",
        "print(cm)\n",
        "\n",
        "# Classification Metrics\n",
        "accuracy = accuracy_score(y_test, y_pred)\n",
        "precision = precision_score(y_test, y_pred)\n",
        "recall = recall_score(y_test, y_pred)\n",
        "f1 = f1_score(y_test, y_pred)\n",
        "\n",
        "print(\"\\nEvaluation Metrics:\")\n",
        "print(f\"Accuracy:  {accuracy:.2f}\")\n",
        "print(f\"Precision: {precision:.2f}\")\n",
        "print(f\"Recall:    {recall:.2f}\")\n",
        "print(f\"F1 Score:  {f1:.2f}\")\n"
      ],
      "metadata": {
        "colab": {
          "base_uri": "https://localhost:8080/"
        },
        "id": "DoZ9zW6ZXLqd",
        "outputId": "29e9414d-e789-4b06-90fe-4eb9047efb56"
      },
      "execution_count": 175,
      "outputs": [
        {
          "output_type": "stream",
          "name": "stdout",
          "text": [
            "Confusion Matrix:\n",
            "[[29  3]\n",
            " [ 9  4]]\n",
            "\n",
            "Evaluation Metrics:\n",
            "Accuracy:  0.73\n",
            "Precision: 0.57\n",
            "Recall:    0.31\n",
            "F1 Score:  0.40\n"
          ]
        }
      ]
    },
    {
      "cell_type": "code",
      "source": [
        "# Plot confusion matrix as heatmap\n",
        "plt.figure(figsize=(5,4))\n",
        "sns.heatmap(cm, annot=True, fmt='d', cmap='Blues', xticklabels=['Not Versicolor', 'Versicolor'], yticklabels=['Not Versicolor', 'Versicolor'])\n",
        "plt.xlabel('Predicted Label')\n",
        "plt.ylabel('True Label')\n",
        "plt.title('Confusion Matrix Heatmap')\n",
        "plt.show()"
      ],
      "metadata": {
        "colab": {
          "base_uri": "https://localhost:8080/",
          "height": 410
        },
        "id": "JijIkiD-ghOo",
        "outputId": "f681e0a6-759b-44ce-c63f-1e26bd12c64d"
      },
      "execution_count": 176,
      "outputs": [
        {
          "output_type": "display_data",
          "data": {
            "text/plain": [
              "<Figure size 500x400 with 2 Axes>"
            ],
            "image/png": "[encoded data removed]"
          },
          "metadata": {}
        }
      ]
    },
    {
      "cell_type": "markdown",
      "source": [
        "### **Findings** :\n",
        "\n",
        "\n",
        "1.   **Confusion Metrics** : It shows total True Negative and True Positive counts 33 out of 45 test records. which is good but there are some False Negative like 20%\n",
        "prediction missed real Versicolor samples and a very less of 6% (FP) Predicted Versicolor, but it wasn't.\n",
        "2.   **Accuracy** : Overall the model is correct 73% of the time.\n",
        "3.   **Precision** : When it predicts Versicolor, it's right 57% of the time.\n",
        "4.   **Recall** : It only finds 31% of actual Versicolor flowers.\n",
        "5.   **F1-Score** : A balance between precision and recall. The Score is 0.40 which is lower due to poor recall so the model is good at identifying non-Versicolor but struggles to detect Versicolor (low recall)."
      ],
      "metadata": {
        "id": "yONMdLDrhDn0"
      }
    }
  ]
}